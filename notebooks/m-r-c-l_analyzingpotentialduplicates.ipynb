{
 "cells": [
  {
   "cell_type": "markdown",
   "id": "d2cc521c",
   "metadata": {},
   "source": [
    "# Summary"
   ]
  },
  {
   "cell_type": "markdown",
   "id": "4eb99732",
   "metadata": {},
   "source": [
    "- There're 18 duplicates in the 100k MovieLens dataset from TF.\n",
    "- The list can be found below\n",
    "- I've tried to set up a protoype to get rid of the duplicates, but it doesn't look like it went well (see example below)\n",
    "\n",
    "Before transformation:\n",
    "{'movie_genres': <tf.Tensor: shape=(1,), dtype=int64, numpy=array([4])>, 'movie_id': <tf.Tensor: shape=(), dtype=string, numpy=b'1681'>, 'movie_title': <tf.Tensor: shape=(), dtype=string, numpy=b'You So Crazy (1994)'>}\n",
    "\n",
    "After transformation:\n",
    "{'movie_id': <tf.Tensor: shape=(), dtype=string, numpy=b'1681'>, 'movie_title': <tf.Tensor: shape=(), dtype=string, numpy=b'You So Crazy (1994)'>, 'movie_genres': <tf.Tensor: shape=(1,), dtype=int32, numpy=array([4], dtype=int32)>}"
   ]
  },
  {
   "cell_type": "code",
   "execution_count": 67,
   "id": "8d9780e4",
   "metadata": {},
   "outputs": [
    {
     "data": {
      "text/plain": [
       "array([b'Fly Away Home (1996)', b'Sliding Doors (1998)',\n",
       "       b'That Darn Cat! (1997)', b'Butcher Boy, The (1998)',\n",
       "       b'Ice Storm, The (1997)', b'Hurricane Streets (1998)',\n",
       "       b'Kull the Conqueror (1997)', b'Chairman of the Board (1998)',\n",
       "       b\"Ulee's Gold (1997)\", b'Designated Mourner, The (1997)',\n",
       "       b'Deceiver (1997)', b'Desperate Measures (1998)',\n",
       "       b'Substance of Fire, The (1996)', b'Nightwatch (1997)',\n",
       "       b'Chasing Amy (1997)', b'Body Snatchers (1993)',\n",
       "       b'Hugo Pool (1997)', b'Money Talks (1997)'], dtype=object)"
      ]
     },
     "execution_count": 67,
     "metadata": {},
     "output_type": "execute_result"
    }
   ],
   "source": [
    "duplicates_list"
   ]
  },
  {
   "cell_type": "markdown",
   "id": "b08b193e",
   "metadata": {
    "heading_collapsed": true
   },
   "source": [
    "# Modules"
   ]
  },
  {
   "cell_type": "code",
   "execution_count": 1,
   "id": "252ba661",
   "metadata": {
    "hidden": true
   },
   "outputs": [],
   "source": [
    "import numpy as np\n",
    "import pandas as pd"
   ]
  },
  {
   "cell_type": "code",
   "execution_count": 2,
   "id": "5163d387",
   "metadata": {
    "hidden": true
   },
   "outputs": [
    {
     "name": "stderr",
     "output_type": "stream",
     "text": [
      "2024-09-10 00:32:11.245650: I external/local_tsl/tsl/cuda/cudart_stub.cc:31] Could not find cuda drivers on your machine, GPU will not be used.\n",
      "2024-09-10 00:32:11.279350: E external/local_xla/xla/stream_executor/cuda/cuda_dnn.cc:9261] Unable to register cuDNN factory: Attempting to register factory for plugin cuDNN when one has already been registered\n",
      "2024-09-10 00:32:11.279387: E external/local_xla/xla/stream_executor/cuda/cuda_fft.cc:607] Unable to register cuFFT factory: Attempting to register factory for plugin cuFFT when one has already been registered\n",
      "2024-09-10 00:32:11.280409: E external/local_xla/xla/stream_executor/cuda/cuda_blas.cc:1515] Unable to register cuBLAS factory: Attempting to register factory for plugin cuBLAS when one has already been registered\n",
      "2024-09-10 00:32:11.285965: I external/local_tsl/tsl/cuda/cudart_stub.cc:31] Could not find cuda drivers on your machine, GPU will not be used.\n",
      "2024-09-10 00:32:11.286734: I tensorflow/core/platform/cpu_feature_guard.cc:182] This TensorFlow binary is optimized to use available CPU instructions in performance-critical operations.\n",
      "To enable the following instructions: AVX2 FMA, in other operations, rebuild TensorFlow with the appropriate compiler flags.\n",
      "2024-09-10 00:32:12.601503: W tensorflow/compiler/tf2tensorrt/utils/py_utils.cc:38] TF-TRT Warning: Could not find TensorRT\n",
      "/home/marcel/.pyenv/versions/3.10.6/envs/Movie-Recommendation-Engine/lib/python3.10/site-packages/tqdm/auto.py:21: TqdmWarning: IProgress not found. Please update jupyter and ipywidgets. See https://ipywidgets.readthedocs.io/en/stable/user_install.html\n",
      "  from .autonotebook import tqdm as notebook_tqdm\n"
     ]
    }
   ],
   "source": [
    "import tensorflow as tf\n",
    "import tensorflow_datasets as tfds\n",
    "import tensorflow_recommenders as tfrs\n",
    "from tensorflow.keras import layers"
   ]
  },
  {
   "cell_type": "markdown",
   "id": "683cb25b",
   "metadata": {
    "heading_collapsed": true
   },
   "source": [
    "# Data"
   ]
  },
  {
   "cell_type": "code",
   "execution_count": 52,
   "id": "d5f0cfe7",
   "metadata": {
    "hidden": true
   },
   "outputs": [],
   "source": [
    "# Features of all the available movies.\n",
    "movies = tfds.load(\"movielens/100k-movies\", split=\"train\")"
   ]
  },
  {
   "cell_type": "code",
   "execution_count": 53,
   "id": "5a8ee0de",
   "metadata": {
    "hidden": true
   },
   "outputs": [
    {
     "data": {
      "text/plain": [
       "1682"
      ]
     },
     "execution_count": 53,
     "metadata": {},
     "output_type": "execute_result"
    }
   ],
   "source": [
    "len(movies)"
   ]
  },
  {
   "cell_type": "code",
   "execution_count": 10,
   "id": "46de5317",
   "metadata": {
    "hidden": true
   },
   "outputs": [],
   "source": [
    "df = tfds.as_dataframe(movies)"
   ]
  },
  {
   "cell_type": "markdown",
   "id": "1af930ad",
   "metadata": {
    "heading_collapsed": true
   },
   "source": [
    "# Analysis"
   ]
  },
  {
   "cell_type": "code",
   "execution_count": 12,
   "id": "515d6bcd",
   "metadata": {
    "hidden": true
   },
   "outputs": [
    {
     "data": {
      "text/plain": [
       "2                 b'Fly Away Home (1996)'\n",
       "154               b'Sliding Doors (1998)'\n",
       "215              b'That Darn Cat! (1997)'\n",
       "234            b'Butcher Boy, The (1998)'\n",
       "335              b'Ice Storm, The (1997)'\n",
       "344           b'Hurricane Streets (1998)'\n",
       "436          b'Kull the Conqueror (1997)'\n",
       "457       b'Chairman of the Board (1998)'\n",
       "516                 b\"Ulee's Gold (1997)\"\n",
       "527     b'Designated Mourner, The (1997)'\n",
       "536       b'Chairman of the Board (1998)'\n",
       "540                    b'Deceiver (1997)'\n",
       "557            b'Butcher Boy, The (1998)'\n",
       "599          b'Desperate Measures (1998)'\n",
       "602      b'Substance of Fire, The (1996)'\n",
       "626                  b'Nightwatch (1997)'\n",
       "651                 b'Chasing Amy (1997)'\n",
       "657              b'Body Snatchers (1993)'\n",
       "719      b'Substance of Fire, The (1996)'\n",
       "731                  b'Nightwatch (1997)'\n",
       "740                   b'Hugo Pool (1997)'\n",
       "768                 b'Chasing Amy (1997)'\n",
       "793                 b\"Ulee's Gold (1997)\"\n",
       "820          b'Kull the Conqueror (1997)'\n",
       "825          b'Desperate Measures (1998)'\n",
       "904               b'Sliding Doors (1998)'\n",
       "949                 b'Money Talks (1997)'\n",
       "1043             b'Body Snatchers (1993)'\n",
       "1117             b'Ice Storm, The (1997)'\n",
       "1134                  b'Hugo Pool (1997)'\n",
       "1264    b'Designated Mourner, The (1997)'\n",
       "1280              b'Fly Away Home (1996)'\n",
       "1335                   b'Deceiver (1997)'\n",
       "1362                b'Money Talks (1997)'\n",
       "1513             b'That Darn Cat! (1997)'\n",
       "1637          b'Hurricane Streets (1998)'\n",
       "Name: movie_title, dtype: object"
      ]
     },
     "execution_count": 12,
     "metadata": {},
     "output_type": "execute_result"
    }
   ],
   "source": [
    "# Identify duplicate rows in movie_title. With keep=False it returns all duplicates as TRUE and filters to return only those\n",
    "duplicate_titles = df[df['movie_title'].duplicated(keep=False)]\n",
    "\n",
    "\n",
    "duplicate_titles['movie_title']"
   ]
  },
  {
   "cell_type": "code",
   "execution_count": 16,
   "id": "adc72dcc",
   "metadata": {
    "hidden": true,
    "scrolled": true
   },
   "outputs": [
    {
     "data": {
      "text/plain": [
       "array([b'Fly Away Home (1996)', b'Sliding Doors (1998)',\n",
       "       b'That Darn Cat! (1997)', b'Butcher Boy, The (1998)',\n",
       "       b'Ice Storm, The (1997)', b'Hurricane Streets (1998)',\n",
       "       b'Kull the Conqueror (1997)', b'Chairman of the Board (1998)',\n",
       "       b\"Ulee's Gold (1997)\", b'Designated Mourner, The (1997)',\n",
       "       b'Deceiver (1997)', b'Desperate Measures (1998)',\n",
       "       b'Substance of Fire, The (1996)', b'Nightwatch (1997)',\n",
       "       b'Chasing Amy (1997)', b'Body Snatchers (1993)',\n",
       "       b'Hugo Pool (1997)', b'Money Talks (1997)'], dtype=object)"
      ]
     },
     "execution_count": 16,
     "metadata": {},
     "output_type": "execute_result"
    }
   ],
   "source": [
    "duplicates_list = duplicate_titles['movie_title'].unique()\n",
    "duplicates_list"
   ]
  },
  {
   "cell_type": "code",
   "execution_count": 18,
   "id": "eb8d3e1d",
   "metadata": {
    "hidden": true
   },
   "outputs": [
    {
     "data": {
      "text/plain": [
       "18"
      ]
     },
     "execution_count": 18,
     "metadata": {},
     "output_type": "execute_result"
    }
   ],
   "source": [
    "len(duplicates_list)"
   ]
  },
  {
   "cell_type": "markdown",
   "id": "1dc350b6",
   "metadata": {
    "heading_collapsed": true
   },
   "source": [
    "# Preprocessing prototype (TF)"
   ]
  },
  {
   "cell_type": "code",
   "execution_count": 57,
   "id": "8c3ff74a",
   "metadata": {
    "hidden": true
   },
   "outputs": [
    {
     "name": "stdout",
     "output_type": "stream",
     "text": [
      "{'movie_id': <tf.Tensor: shape=(), dtype=string, numpy=b'1681'>, 'movie_title': <tf.Tensor: shape=(), dtype=string, numpy=b'You So Crazy (1994)'>, 'movie_genres': <tf.Tensor: shape=(1,), dtype=int32, numpy=array([4], dtype=int32)>}\n",
      "{'movie_id': <tf.Tensor: shape=(), dtype=string, numpy=b'1457'>, 'movie_title': <tf.Tensor: shape=(), dtype=string, numpy=b'Love Is All There Is (1996)'>, 'movie_genres': <tf.Tensor: shape=(2,), dtype=int32, numpy=array([4, 7], dtype=int32)>}\n",
      "{'movie_id': <tf.Tensor: shape=(), dtype=string, numpy=b'500'>, 'movie_title': <tf.Tensor: shape=(), dtype=string, numpy=b'Fly Away Home (1996)'>, 'movie_genres': <tf.Tensor: shape=(2,), dtype=int32, numpy=array([1, 3], dtype=int32)>}\n",
      "{'movie_id': <tf.Tensor: shape=(), dtype=string, numpy=b'838'>, 'movie_title': <tf.Tensor: shape=(), dtype=string, numpy=b'In the Line of Duty 2 (1987)'>, 'movie_genres': <tf.Tensor: shape=(1,), dtype=int32, numpy=array([0], dtype=int32)>}\n",
      "{'movie_id': <tf.Tensor: shape=(), dtype=string, numpy=b'1648'>, 'movie_title': <tf.Tensor: shape=(), dtype=string, numpy=b'Niagara, Niagara (1997)'>, 'movie_genres': <tf.Tensor: shape=(1,), dtype=int32, numpy=array([7], dtype=int32)>}\n"
     ]
    }
   ],
   "source": [
    "import tensorflow as tf\n",
    "import tensorflow_datasets as tfds\n",
    "import pandas as pd\n",
    "\n",
    "# Load the movielens dataset\n",
    "movies = tfds.load(\"movielens/100k-movies\", split=\"train\")\n",
    "\n",
    "# Convert the TensorFlow Dataset to a pandas DataFrame\n",
    "df = tfds.as_dataframe(movies)\n",
    "\n",
    "# Remove duplicate rows based on the 'movie_title' column\n",
    "df_unique = df.drop_duplicates(subset='movie_title', keep='first')\n",
    "\n",
    "# Step 1: Handle the `movie_genres` column using `tf.ragged.constant`\n",
    "movie_genres_ragged = tf.ragged.constant(df_unique['movie_genres'].tolist())\n",
    "\n",
    "# Step 2: Convert other columns (non-list) to TensorFlow tensors\n",
    "df_unique_no_genres = df_unique.drop(columns=['movie_genres'])\n",
    "\n",
    "def pandas_to_tf_dataset(dataframe, genres_ragged):\n",
    "    dict_data = {}\n",
    "    \n",
    "    # Convert non-list columns to TensorFlow tensors\n",
    "    for col in dataframe.columns:\n",
    "        dict_data[col] = tf.convert_to_tensor(dataframe[col].values)\n",
    "    \n",
    "    # Add the `movie_genres` as a ragged tensor\n",
    "    dict_data['movie_genres'] = genres_ragged\n",
    "    \n",
    "    return tf.data.Dataset.from_tensor_slices(dict_data)\n",
    "\n",
    "# Create the dataset\n",
    "movies_unique = pandas_to_tf_dataset(df_unique_no_genres, movie_genres_ragged)\n",
    "\n",
    "# Inspect the first few unique movies\n",
    "for movie in movies_unique.take(5):\n",
    "    print(movie)\n"
   ]
  },
  {
   "cell_type": "code",
   "execution_count": 58,
   "id": "9612129f",
   "metadata": {
    "hidden": true
   },
   "outputs": [],
   "source": [
    "df_test = tfds.as_dataframe(movies_unique)"
   ]
  },
  {
   "cell_type": "code",
   "execution_count": 59,
   "id": "ae2d62cc",
   "metadata": {
    "hidden": true,
    "scrolled": true
   },
   "outputs": [
    {
     "data": {
      "text/plain": [
       "Series([], Name: movie_title, dtype: object)"
      ]
     },
     "execution_count": 59,
     "metadata": {},
     "output_type": "execute_result"
    }
   ],
   "source": [
    "# Identify duplicate rows in movie_title. With keep=False it returns all duplicates as TRUE and filters to return only those\n",
    "duplicate_titles_test = df_test[df_test['movie_title'].duplicated(keep=False)]\n",
    "\n",
    "\n",
    "duplicate_titles_test['movie_title']"
   ]
  },
  {
   "cell_type": "markdown",
   "id": "56717aa1",
   "metadata": {
    "hidden": true
   },
   "source": [
    "## Comparision"
   ]
  },
  {
   "cell_type": "markdown",
   "id": "8e978b34",
   "metadata": {
    "hidden": true
   },
   "source": [
    "## Length of tf ds"
   ]
  },
  {
   "cell_type": "code",
   "execution_count": 61,
   "id": "9046eeba",
   "metadata": {
    "hidden": true,
    "scrolled": false
   },
   "outputs": [
    {
     "data": {
      "text/plain": [
       "1682"
      ]
     },
     "execution_count": 61,
     "metadata": {},
     "output_type": "execute_result"
    }
   ],
   "source": [
    "len(movies)"
   ]
  },
  {
   "cell_type": "code",
   "execution_count": 60,
   "id": "ef704e95",
   "metadata": {
    "hidden": true
   },
   "outputs": [
    {
     "data": {
      "text/plain": [
       "1664"
      ]
     },
     "execution_count": 60,
     "metadata": {},
     "output_type": "execute_result"
    }
   ],
   "source": [
    "len(movies_unique)"
   ]
  },
  {
   "cell_type": "code",
   "execution_count": 65,
   "id": "c0a4fe7c",
   "metadata": {
    "hidden": true
   },
   "outputs": [
    {
     "name": "stdout",
     "output_type": "stream",
     "text": [
      "{'movie_genres': <tf.Tensor: shape=(1,), dtype=int64, numpy=array([4])>, 'movie_id': <tf.Tensor: shape=(), dtype=string, numpy=b'1681'>, 'movie_title': <tf.Tensor: shape=(), dtype=string, numpy=b'You So Crazy (1994)'>}\n",
      "{'movie_genres': <tf.Tensor: shape=(2,), dtype=int64, numpy=array([4, 7])>, 'movie_id': <tf.Tensor: shape=(), dtype=string, numpy=b'1457'>, 'movie_title': <tf.Tensor: shape=(), dtype=string, numpy=b'Love Is All There Is (1996)'>}\n",
      "{'movie_genres': <tf.Tensor: shape=(2,), dtype=int64, numpy=array([1, 3])>, 'movie_id': <tf.Tensor: shape=(), dtype=string, numpy=b'500'>, 'movie_title': <tf.Tensor: shape=(), dtype=string, numpy=b'Fly Away Home (1996)'>}\n",
      "{'movie_genres': <tf.Tensor: shape=(1,), dtype=int64, numpy=array([0])>, 'movie_id': <tf.Tensor: shape=(), dtype=string, numpy=b'838'>, 'movie_title': <tf.Tensor: shape=(), dtype=string, numpy=b'In the Line of Duty 2 (1987)'>}\n",
      "{'movie_genres': <tf.Tensor: shape=(1,), dtype=int64, numpy=array([7])>, 'movie_id': <tf.Tensor: shape=(), dtype=string, numpy=b'1648'>, 'movie_title': <tf.Tensor: shape=(), dtype=string, numpy=b'Niagara, Niagara (1997)'>}\n"
     ]
    }
   ],
   "source": [
    "# Inspect movies tf ds (without manipulation)\n",
    "for movie in movies.take(5):\n",
    "    print(movie)"
   ]
  },
  {
   "cell_type": "code",
   "execution_count": 66,
   "id": "5046e4b8",
   "metadata": {
    "hidden": true
   },
   "outputs": [
    {
     "name": "stdout",
     "output_type": "stream",
     "text": [
      "{'movie_id': <tf.Tensor: shape=(), dtype=string, numpy=b'1681'>, 'movie_title': <tf.Tensor: shape=(), dtype=string, numpy=b'You So Crazy (1994)'>, 'movie_genres': <tf.Tensor: shape=(1,), dtype=int32, numpy=array([4], dtype=int32)>}\n",
      "{'movie_id': <tf.Tensor: shape=(), dtype=string, numpy=b'1457'>, 'movie_title': <tf.Tensor: shape=(), dtype=string, numpy=b'Love Is All There Is (1996)'>, 'movie_genres': <tf.Tensor: shape=(2,), dtype=int32, numpy=array([4, 7], dtype=int32)>}\n",
      "{'movie_id': <tf.Tensor: shape=(), dtype=string, numpy=b'500'>, 'movie_title': <tf.Tensor: shape=(), dtype=string, numpy=b'Fly Away Home (1996)'>, 'movie_genres': <tf.Tensor: shape=(2,), dtype=int32, numpy=array([1, 3], dtype=int32)>}\n",
      "{'movie_id': <tf.Tensor: shape=(), dtype=string, numpy=b'838'>, 'movie_title': <tf.Tensor: shape=(), dtype=string, numpy=b'In the Line of Duty 2 (1987)'>, 'movie_genres': <tf.Tensor: shape=(1,), dtype=int32, numpy=array([0], dtype=int32)>}\n",
      "{'movie_id': <tf.Tensor: shape=(), dtype=string, numpy=b'1648'>, 'movie_title': <tf.Tensor: shape=(), dtype=string, numpy=b'Niagara, Niagara (1997)'>, 'movie_genres': <tf.Tensor: shape=(1,), dtype=int32, numpy=array([7], dtype=int32)>}\n"
     ]
    }
   ],
   "source": [
    "# Inspect movies tf ds (after manipulation)\n",
    "for movie in movies_unique.take(5):\n",
    "    print(movie)"
   ]
  }
 ],
 "metadata": {
  "kernelspec": {
   "display_name": "Python 3 (ipykernel)",
   "language": "python",
   "name": "python3"
  },
  "language_info": {
   "codemirror_mode": {
    "name": "ipython",
    "version": 3
   },
   "file_extension": ".py",
   "mimetype": "text/x-python",
   "name": "python",
   "nbconvert_exporter": "python",
   "pygments_lexer": "ipython3",
   "version": "3.10.6"
  },
  "toc": {
   "base_numbering": 1,
   "nav_menu": {},
   "number_sections": true,
   "sideBar": true,
   "skip_h1_title": false,
   "title_cell": "Table of Contents",
   "title_sidebar": "Contents",
   "toc_cell": false,
   "toc_position": {},
   "toc_section_display": true,
   "toc_window_display": false
  }
 },
 "nbformat": 4,
 "nbformat_minor": 5
}
