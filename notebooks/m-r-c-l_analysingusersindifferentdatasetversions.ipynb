{
 "cells": [
  {
   "cell_type": "markdown",
   "id": "7a583d5f",
   "metadata": {},
   "source": [
    "# Summary"
   ]
  },
  {
   "cell_type": "markdown",
   "id": "ce139af7",
   "metadata": {},
   "source": [
    "- User_id's don't seem to be unique across different datasets.\n",
    "- Thus, we need to pick one dataset for the demo and can't just use a bigger one and expect to get the same results"
   ]
  },
  {
   "cell_type": "markdown",
   "id": "b08b193e",
   "metadata": {},
   "source": [
    "# Modules"
   ]
  },
  {
   "cell_type": "code",
   "execution_count": 9,
   "id": "1a22e6ad",
   "metadata": {},
   "outputs": [],
   "source": [
    "import numpy as np\n",
    "import pandas as pd"
   ]
  },
  {
   "cell_type": "code",
   "execution_count": 10,
   "id": "16bd498c",
   "metadata": {},
   "outputs": [],
   "source": [
    "import os\n",
    "import pprint\n",
    "import tempfile"
   ]
  },
  {
   "cell_type": "code",
   "execution_count": 11,
   "id": "c3de99ad",
   "metadata": {},
   "outputs": [],
   "source": [
    "import tensorflow as tf\n",
    "import tensorflow_datasets as tfds\n",
    "import tensorflow_recommenders as tfrs\n",
    "from tensorflow.keras import layers"
   ]
  },
  {
   "cell_type": "code",
   "execution_count": 12,
   "id": "bde63565",
   "metadata": {},
   "outputs": [],
   "source": [
    "from typing import Dict, Text"
   ]
  },
  {
   "cell_type": "code",
   "execution_count": 13,
   "id": "3600f1fb",
   "metadata": {},
   "outputs": [],
   "source": [
    "from datetime import datetime\n",
    "import re"
   ]
  },
  {
   "cell_type": "markdown",
   "id": "34e37918",
   "metadata": {},
   "source": [
    "# 100k"
   ]
  },
  {
   "cell_type": "code",
   "execution_count": 32,
   "id": "df109620",
   "metadata": {},
   "outputs": [],
   "source": [
    "# Ratings data.\n",
    "ratings = tfds.load(\"movielens/100k-ratings\", split=\"train\")\n",
    "# Features of all the available movies.\n",
    "movies = tfds.load(\"movielens/100k-movies\", split=\"train\")"
   ]
  },
  {
   "cell_type": "code",
   "execution_count": 33,
   "id": "56e96535",
   "metadata": {},
   "outputs": [],
   "source": [
    "ratings = ratings.map(lambda x: {\n",
    "    \"movie_title\": x[\"movie_title\"],\n",
    "    \"user_id\": x[\"user_id\"],\n",
    "    \"user_rating\": float(x[\"user_rating\"])\n",
    "})\n",
    "movies = movies.map(lambda x: x[\"movie_title\"])"
   ]
  },
  {
   "cell_type": "code",
   "execution_count": 12,
   "id": "944cf7c4",
   "metadata": {},
   "outputs": [],
   "source": [
    "ratings_df = tfds.as_dataframe(ratings)"
   ]
  },
  {
   "cell_type": "code",
   "execution_count": 8,
   "id": "eee6f476",
   "metadata": {},
   "outputs": [
    {
     "name": "stdout",
     "output_type": "stream",
     "text": [
      "Movie: Birdcage, The (1996), Rating: 2.0\n",
      "Movie: Braveheart (1995), Rating: 5.0\n",
      "Movie: Return of the Pink Panther, The (1974), Rating: 2.0\n",
      "Movie: Three Musketeers, The (1993), Rating: 3.0\n",
      "Movie: Romeo Is Bleeding (1993), Rating: 3.0\n",
      "Movie: Grease 2 (1982), Rating: 1.0\n",
      "Movie: Natural Born Killers (1994), Rating: 1.0\n",
      "Movie: Clockwork Orange, A (1971), Rating: 5.0\n",
      "Movie: City Slickers II: The Legend of Curly's Gold (1994), Rating: 1.0\n",
      "Movie: Star Wars (1977), Rating: 4.0\n",
      "Movie: Sting, The (1973), Rating: 4.0\n",
      "Movie: Fargo (1996), Rating: 5.0\n",
      "Movie: Star Trek: The Wrath of Khan (1982), Rating: 4.0\n",
      "Movie: Mulholland Falls (1996), Rating: 2.0\n",
      "Movie: Star Trek IV: The Voyage Home (1986), Rating: 3.0\n",
      "Movie: One Flew Over the Cuckoo's Nest (1975), Rating: 4.0\n",
      "Movie: Aliens (1986), Rating: 3.0\n",
      "Movie: Pulp Fiction (1994), Rating: 5.0\n",
      "Movie: Tombstone (1993), Rating: 4.0\n",
      "Movie: Silence of the Lambs, The (1991), Rating: 5.0\n",
      "Movie: Under Siege 2: Dark Territory (1995), Rating: 1.0\n",
      "Movie: Toy Story (1995), Rating: 3.0\n",
      "Movie: Broken Arrow (1996), Rating: 2.0\n",
      "Movie: Godfather: Part II, The (1974), Rating: 4.0\n",
      "Movie: Monty Python's Life of Brian (1979), Rating: 2.0\n",
      "Movie: Die Hard 2 (1990), Rating: 2.0\n",
      "Movie: Madness of King George, The (1994), Rating: 3.0\n",
      "Movie: Interview with the Vampire (1994), Rating: 2.0\n",
      "Movie: Star Trek VI: The Undiscovered Country (1991), Rating: 1.0\n",
      "Movie: Operation Dumbo Drop (1995), Rating: 1.0\n",
      "Movie: Hunt for Red October, The (1990), Rating: 4.0\n",
      "Movie: Dave (1993), Rating: 3.0\n",
      "Movie: Field of Dreams (1989), Rating: 3.0\n",
      "Movie: Casablanca (1942), Rating: 4.0\n",
      "Movie: This Is Spinal Tap (1984), Rating: 2.0\n",
      "Movie: Jaws (1975), Rating: 3.0\n",
      "Movie: Star Trek: First Contact (1996), Rating: 1.0\n",
      "Movie: Alien 3 (1992), Rating: 1.0\n",
      "Movie: Mrs. Doubtfire (1993), Rating: 2.0\n",
      "Movie: Jurassic Park (1993), Rating: 3.0\n",
      "Movie: Butch Cassidy and the Sundance Kid (1969), Rating: 4.0\n",
      "Movie: Right Stuff, The (1983), Rating: 4.0\n",
      "Movie: Dr. Strangelove or: How I Learned to Stop Worrying and Love the Bomb (1963), Rating: 5.0\n",
      "Movie: Airheads (1994), Rating: 1.0\n",
      "Movie: Escape from New York (1981), Rating: 2.0\n",
      "Movie: Maverick (1994), Rating: 4.0\n",
      "Movie: Manon of the Spring (Manon des sources) (1986), Rating: 3.0\n",
      "Movie: Aladdin (1992), Rating: 3.0\n",
      "Movie: Cape Fear (1991), Rating: 3.0\n",
      "Movie: Godfather, The (1972), Rating: 5.0\n",
      "Movie: Mask, The (1994), Rating: 3.0\n",
      "Movie: Young Guns II (1990), Rating: 1.0\n",
      "Movie: Living in Oblivion (1995), Rating: 2.0\n",
      "Movie: Mary Shelley's Frankenstein (1994), Rating: 3.0\n",
      "Movie: Boot, Das (1981), Rating: 3.0\n",
      "Movie: Willy Wonka and the Chocolate Factory (1971), Rating: 4.0\n",
      "Movie: Nightmare on Elm Street, A (1984), Rating: 1.0\n",
      "Movie: Seven (Se7en) (1995), Rating: 4.0\n",
      "Movie: Apocalypse Now (1979), Rating: 5.0\n",
      "Movie: Batman (1989), Rating: 3.0\n",
      "Movie: People vs. Larry Flynt, The (1996), Rating: 3.0\n",
      "Movie: Philadelphia (1993), Rating: 3.0\n",
      "Movie: When Harry Met Sally... (1989), Rating: 3.0\n",
      "Movie: Dances with Wolves (1990), Rating: 2.0\n",
      "Movie: Heat (1995), Rating: 3.0\n",
      "Movie: Back to the Future (1985), Rating: 3.0\n",
      "Movie: Princess Bride, The (1987), Rating: 3.0\n",
      "Movie: Tin Cup (1996), Rating: 2.0\n",
      "Movie: Ace Ventura: Pet Detective (1994), Rating: 1.0\n",
      "Movie: Children of the Corn: The Gathering (1996), Rating: 1.0\n",
      "Movie: Trainspotting (1996), Rating: 2.0\n",
      "Movie: Heathers (1989), Rating: 1.0\n",
      "Movie: Made in America (1993), Rating: 2.0\n",
      "Movie: Shining, The (1980), Rating: 4.0\n",
      "Movie: Alien (1979), Rating: 4.0\n",
      "Movie: Bushwhacked (1995), Rating: 1.0\n",
      "Movie: Robin Hood: Prince of Thieves (1991), Rating: 2.0\n",
      "Movie: Muppet Treasure Island (1996), Rating: 1.0\n",
      "Movie: Wizard of Oz, The (1939), Rating: 3.0\n",
      "Movie: Star Trek: The Motion Picture (1979), Rating: 1.0\n",
      "Movie: GoodFellas (1990), Rating: 4.0\n",
      "Movie: Pink Floyd - The Wall (1982), Rating: 3.0\n",
      "Movie: Searching for Bobby Fischer (1993), Rating: 4.0\n",
      "Movie: Jaws 2 (1978), Rating: 1.0\n",
      "Movie: Platoon (1986), Rating: 4.0\n",
      "Movie: Twelve Monkeys (1995), Rating: 4.0\n",
      "Movie: Amityville Horror, The (1979), Rating: 2.0\n",
      "Movie: Batman Returns (1992), Rating: 1.0\n",
      "Movie: Die Hard (1988), Rating: 4.0\n",
      "Movie: Dead Poets Society (1989), Rating: 4.0\n",
      "Movie: Reservoir Dogs (1992), Rating: 4.0\n",
      "Movie: Home Alone (1990), Rating: 1.0\n",
      "Movie: Fish Called Wanda, A (1988), Rating: 3.0\n",
      "Movie: Sleepless in Seattle (1993), Rating: 3.0\n",
      "Movie: Stargate (1994), Rating: 1.0\n",
      "Movie: Michael (1996), Rating: 2.0\n",
      "Movie: Son in Law (1993), Rating: 1.0\n",
      "Movie: True Lies (1994), Rating: 3.0\n",
      "Movie: Raiders of the Lost Ark (1981), Rating: 4.0\n",
      "Movie: Boomerang (1992), Rating: 1.0\n",
      "Movie: Cliffhanger (1993), Rating: 1.0\n",
      "Movie: Santa Clause, The (1994), Rating: 2.0\n",
      "Movie: Grease (1978), Rating: 1.0\n",
      "Movie: Cowboy Way, The (1994), Rating: 3.0\n",
      "Movie: Dazed and Confused (1993), Rating: 1.0\n",
      "Movie: Quiz Show (1994), Rating: 3.0\n",
      "Movie: Top Gun (1986), Rating: 2.0\n",
      "Movie: 2001: A Space Odyssey (1968), Rating: 4.0\n",
      "Movie: Clueless (1995), Rating: 4.0\n",
      "Movie: Kingpin (1996), Rating: 3.0\n",
      "Movie: Real Genius (1985), Rating: 4.0\n",
      "Movie: Fugitive, The (1993), Rating: 3.0\n",
      "Movie: Blues Brothers, The (1980), Rating: 4.0\n",
      "Movie: Abyss, The (1989), Rating: 2.0\n",
      "Movie: Four Weddings and a Funeral (1994), Rating: 2.0\n",
      "Movie: Tank Girl (1995), Rating: 3.0\n",
      "Movie: Schindler's List (1993), Rating: 4.0\n",
      "Movie: Usual Suspects, The (1995), Rating: 4.0\n",
      "Movie: Courage Under Fire (1996), Rating: 3.0\n",
      "Movie: Monty Python and the Holy Grail (1974), Rating: 3.0\n",
      "Movie: Indiana Jones and the Last Crusade (1989), Rating: 3.0\n",
      "Movie: Chinatown (1974), Rating: 4.0\n",
      "Movie: Halloween: The Curse of Michael Myers (1995), Rating: 1.0\n",
      "Movie: Under Siege (1992), Rating: 2.0\n",
      "Movie: Conan the Barbarian (1981), Rating: 1.0\n",
      "Movie: Raising Arizona (1987), Rating: 2.0\n",
      "Movie: Coneheads (1993), Rating: 1.0\n",
      "Movie: Last Man Standing (1996), Rating: 3.0\n",
      "Movie: Die Hard: With a Vengeance (1995), Rating: 1.0\n",
      "Movie: Cool Hand Luke (1967), Rating: 4.0\n",
      "Movie: Happy Gilmore (1996), Rating: 3.0\n",
      "Movie: Young Guns (1988), Rating: 1.0\n",
      "Movie: Clerks (1994), Rating: 1.0\n",
      "Movie: Swimming with Sharks (1995), Rating: 4.0\n",
      "Movie: Apollo 13 (1995), Rating: 4.0\n",
      "Movie: M*A*S*H (1970), Rating: 4.0\n",
      "Movie: Sneakers (1992), Rating: 3.0\n",
      "Movie: Basic Instinct (1992), Rating: 3.0\n",
      "Movie: Strange Days (1995), Rating: 3.0\n",
      "Movie: Jaws 3-D (1983), Rating: 1.0\n",
      "Movie: Bronx Tale, A (1993), Rating: 3.0\n",
      "Movie: Empire Strikes Back, The (1980), Rating: 2.0\n",
      "Movie: Get Shorty (1995), Rating: 3.0\n",
      "Movie: Last Action Hero (1993), Rating: 1.0\n",
      "Movie: Independence Day (ID4) (1996), Rating: 3.0\n",
      "Movie: Groundhog Day (1993), Rating: 2.0\n",
      "Movie: Naked Gun 33 1/3: The Final Insult (1994), Rating: 1.0\n",
      "Movie: Mission: Impossible (1996), Rating: 3.0\n",
      "Movie: Forrest Gump (1994), Rating: 4.0\n",
      "Movie: Nutty Professor, The (1996), Rating: 2.0\n",
      "Movie: Army of Darkness (1993), Rating: 1.0\n",
      "Movie: Hot Shots! Part Deux (1993), Rating: 2.0\n",
      "Movie: Sgt. Bilko (1996), Rating: 2.0\n",
      "Movie: Speed (1994), Rating: 2.0\n",
      "Movie: Dead Man Walking (1995), Rating: 3.0\n",
      "Movie: Good, The Bad and The Ugly, The (1966), Rating: 4.0\n",
      "Movie: Eraser (1996), Rating: 1.0\n",
      "Movie: Shawshank Redemption, The (1994), Rating: 5.0\n",
      "Movie: Terminator 2: Judgment Day (1991), Rating: 2.0\n",
      "Movie: First Wives Club, The (1996), Rating: 2.0\n",
      "Movie: Terminator, The (1984), Rating: 4.0\n",
      "Movie: Star Trek III: The Search for Spock (1984), Rating: 1.0\n",
      "Movie: Time to Kill, A (1996), Rating: 3.0\n",
      "Movie: Net, The (1995), Rating: 2.0\n",
      "Movie: Trees Lounge (1996), Rating: 3.0\n",
      "Movie: Phenomenon (1996), Rating: 4.0\n",
      "Movie: Better Off Dead... (1985), Rating: 2.0\n",
      "Movie: Return of the Jedi (1983), Rating: 2.0\n",
      "Movie: Demolition Man (1993), Rating: 1.0\n",
      "Movie: Beverly Hills Cop III (1994), Rating: 1.0\n",
      "Movie: Last of the Mohicans, The (1992), Rating: 2.0\n",
      "Movie: Glory (1989), Rating: 3.0\n",
      "Movie: Private Benjamin (1980), Rating: 2.0\n",
      "Movie: Grumpier Old Men (1995), Rating: 2.0\n",
      "Movie: Carrie (1976), Rating: 2.0\n",
      "Movie: Preacher's Wife, The (1996), Rating: 1.0\n",
      "Movie: Glengarry Glen Ross (1992), Rating: 3.0\n",
      "Movie: Wolf (1994), Rating: 1.0\n",
      "Movie: Blade Runner (1982), Rating: 4.0\n",
      "Movie: Rosencrantz and Guildenstern Are Dead (1990), Rating: 3.0\n",
      "Movie: In the Name of the Father (1993), Rating: 4.0\n",
      "Movie: Rock, The (1996), Rating: 2.0\n",
      "Movie: Man Without a Face, The (1993), Rating: 3.0\n"
     ]
    },
    {
     "name": "stdout",
     "output_type": "stream",
     "text": [
      "Movie: Brazil (1985), Rating: 4.0\n"
     ]
    }
   ],
   "source": [
    "user_id=str(933)\n",
    "\n",
    "# Filter the dataset for user_id = '123'\n",
    "filtered_ratings = ratings.filter(lambda x: x['user_id'] == tf.constant(user_id))\n",
    "\n",
    "# Iterate through the filtered dataset to access the records\n",
    "for record in filtered_ratings:\n",
    "    movie_title = record['movie_title'].numpy().decode('utf-8')\n",
    "    user_rating = record['user_rating'].numpy()\n",
    "    print(f\"Movie: {movie_title}, Rating: {user_rating}\")"
   ]
  },
  {
   "cell_type": "markdown",
   "id": "1a71bcb9",
   "metadata": {},
   "source": [
    "# 1m"
   ]
  },
  {
   "cell_type": "code",
   "execution_count": 10,
   "id": "4ce75d65",
   "metadata": {},
   "outputs": [],
   "source": [
    "# Ratings data.\n",
    "ratings = tfds.load(\"movielens/1m-ratings\", split=\"train\")\n",
    "# Features of all the available movies.\n",
    "movies = tfds.load(\"movielens/1m-movies\", split=\"train\")"
   ]
  },
  {
   "cell_type": "code",
   "execution_count": 11,
   "id": "d5e35334",
   "metadata": {},
   "outputs": [],
   "source": [
    "ratings = ratings.map(lambda x: {\n",
    "    \"movie_title\": x[\"movie_title\"],\n",
    "    \"user_id\": x[\"user_id\"],\n",
    "    \"user_rating\": float(x[\"user_rating\"])\n",
    "})\n",
    "movies = movies.map(lambda x: x[\"movie_title\"])"
   ]
  },
  {
   "cell_type": "code",
   "execution_count": 12,
   "id": "e0c44e2d",
   "metadata": {},
   "outputs": [
    {
     "name": "stdout",
     "output_type": "stream",
     "text": [
      "Movie: Hoop Dreams (1994), Rating: 3.0\n",
      "Movie: Cyrano de Bergerac (1990), Rating: 3.0\n",
      "Movie: Ever After: A Cinderella Story (1998), Rating: 4.0\n",
      "Movie: Terminator 2: Judgment Day (1991), Rating: 1.0\n",
      "Movie: Hunt for Red October, The (1990), Rating: 5.0\n",
      "Movie: Time to Kill, A (1996), Rating: 3.0\n",
      "Movie: Thelma & Louise (1991), Rating: 2.0\n",
      "Movie: Back to the Future (1985), Rating: 5.0\n",
      "Movie: Speed (1994), Rating: 3.0\n",
      "Movie: Porky's II: The Next Day (1983), Rating: 1.0\n",
      "Movie: Patriot Games (1992), Rating: 4.0\n",
      "Movie: Richard III (1995), Rating: 3.0\n",
      "Movie: Misérables, Les (1995), Rating: 5.0\n",
      "Movie: Miracle on 34th Street (1994), Rating: 4.0\n",
      "Movie: Swing Kids (1993), Rating: 5.0\n",
      "Movie: Babe (1995), Rating: 3.0\n",
      "Movie: Shakespeare in Love (1998), Rating: 4.0\n",
      "Movie: North by Northwest (1959), Rating: 5.0\n",
      "Movie: Saving Private Ryan (1998), Rating: 5.0\n",
      "Movie: Anne Frank Remembered (1995), Rating: 5.0\n",
      "Movie: Toy Story (1995), Rating: 5.0\n",
      "Movie: Fistful of Dollars, A (1964), Rating: 3.0\n",
      "Movie: Schindler's List (1993), Rating: 5.0\n",
      "Movie: American Pimp (1999), Rating: 1.0\n",
      "Movie: American Psycho (2000), Rating: 1.0\n",
      "Movie: Forrest Gump (1994), Rating: 5.0\n",
      "Movie: October Sky (1999), Rating: 5.0\n",
      "Movie: X-Men (2000), Rating: 4.0\n",
      "Movie: Searching for Bobby Fischer (1993), Rating: 5.0\n",
      "Movie: Snow White and the Seven Dwarfs (1937), Rating: 3.0\n",
      "Movie: Chicken Run (2000), Rating: 4.0\n",
      "Movie: Cape Fear (1991), Rating: 3.0\n",
      "Movie: For Richer or Poorer (1997), Rating: 3.0\n",
      "Movie: Dead Man Walking (1995), Rating: 4.0\n",
      "Movie: American Beauty (1999), Rating: 3.0\n",
      "Movie: American Tail, An (1986), Rating: 4.0\n",
      "Movie: Perfect Storm, The (2000), Rating: 4.0\n",
      "Movie: Shadowlands (1993), Rating: 5.0\n",
      "Movie: Iron Giant, The (1999), Rating: 1.0\n",
      "Movie: Sense and Sensibility (1995), Rating: 4.0\n",
      "Movie: Crimson Tide (1995), Rating: 5.0\n",
      "Movie: Lion King, The (1994), Rating: 3.0\n",
      "Movie: Misérables, Les (1998), Rating: 4.0\n",
      "Movie: South Park: Bigger, Longer and Uncut (1999), Rating: 1.0\n",
      "Movie: Twelfth Night (1996), Rating: 3.0\n",
      "Movie: Far From Home: The Adventures of Yellow Dog (1995), Rating: 3.0\n",
      "Movie: I'll Be Home For Christmas (1998), Rating: 4.0\n",
      "Movie: Mission: Impossible (1996), Rating: 5.0\n",
      "Movie: Firm, The (1993), Rating: 4.0\n",
      "Movie: Star Trek: First Contact (1996), Rating: 4.0\n",
      "Movie: Shawshank Redemption, The (1994), Rating: 4.0\n",
      "Movie: Rescuers Down Under, The (1990), Rating: 4.0\n",
      "Movie: Patriot, The (2000), Rating: 5.0\n",
      "Movie: People vs. Larry Flynt, The (1996), Rating: 1.0\n",
      "Movie: JFK (1991), Rating: 5.0\n",
      "Movie: Apollo 13 (1995), Rating: 5.0\n",
      "Movie: Silence of the Lambs, The (1991), Rating: 5.0\n",
      "Movie: Beauty and the Beast (1991), Rating: 4.0\n",
      "Movie: League of Their Own, A (1992), Rating: 5.0\n",
      "Movie: Braveheart (1995), Rating: 5.0\n",
      "Movie: Parent Trap, The (1998), Rating: 3.0\n",
      "Movie: Odd Couple II, The (1998), Rating: 3.0\n"
     ]
    }
   ],
   "source": [
    "user_id=str(933)\n",
    "\n",
    "# Filter the dataset for user_id = '123'\n",
    "filtered_ratings = ratings.filter(lambda x: x['user_id'] == tf.constant(user_id))\n",
    "\n",
    "# Iterate through the filtered dataset to access the records\n",
    "for record in filtered_ratings:\n",
    "    movie_title = record['movie_title'].numpy().decode('utf-8')\n",
    "    user_rating = record['user_rating'].numpy()\n",
    "    print(f\"Movie: {movie_title}, Rating: {user_rating}\")"
   ]
  },
  {
   "cell_type": "markdown",
   "id": "997a3dc9",
   "metadata": {},
   "source": [
    "# 20m"
   ]
  },
  {
   "cell_type": "code",
   "execution_count": 13,
   "id": "8f2cafe5",
   "metadata": {},
   "outputs": [],
   "source": [
    "# Ratings data.\n",
    "ratings = tfds.load(\"movielens/25m-ratings\", split=\"train\")\n",
    "# Features of all the available movies.\n",
    "movies = tfds.load(\"movielens/25m-movies\", split=\"train\")"
   ]
  },
  {
   "cell_type": "code",
   "execution_count": 14,
   "id": "61a0711f",
   "metadata": {},
   "outputs": [],
   "source": [
    "ratings = ratings.map(lambda x: {\n",
    "    \"movie_title\": x[\"movie_title\"],\n",
    "    \"user_id\": x[\"user_id\"],\n",
    "    \"user_rating\": float(x[\"user_rating\"])\n",
    "})\n",
    "movies = movies.map(lambda x: x[\"movie_title\"])"
   ]
  },
  {
   "cell_type": "code",
   "execution_count": null,
   "id": "cda4c6b9",
   "metadata": {},
   "outputs": [
    {
     "name": "stdout",
     "output_type": "stream",
     "text": [
      "Movie: Star Wars: Episode V - The Empire Strikes Back (1980), Rating: 5.0\n",
      "Movie: Goodfellas (1990), Rating: 5.0\n",
      "Movie: Shawshank Redemption, The (1994), Rating: 4.0\n",
      "Movie: Lock, Stock & Two Smoking Barrels (1998), Rating: 5.0\n",
      "Movie: Deliverance (1972), Rating: 4.0\n",
      "Movie: Clockwork Orange, A (1971), Rating: 5.0\n",
      "Movie: Boogie Nights (1997), Rating: 3.0\n",
      "Movie: Arachnophobia (1990), Rating: 3.0\n",
      "Movie: Karate Kid, Part II, The (1986), Rating: 2.0\n",
      "Movie: French Connection, The (1971), Rating: 4.0\n",
      "Movie: Bronx Tale, A (1993), Rating: 4.0\n",
      "Movie: Jungle Book, The (1994), Rating: 4.0\n",
      "Movie: Crying Game, The (1992), Rating: 2.0\n",
      "Movie: Twin Town (1997), Rating: 2.0\n",
      "Movie: Citizen Kane (1941), Rating: 5.0\n",
      "Movie: Monty Python and the Holy Grail (1975), Rating: 4.0\n"
     ]
    }
   ],
   "source": [
    "user_id=str(933)\n",
    "\n",
    "# Filter the dataset for user_id = '123'\n",
    "filtered_ratings = ratings.filter(lambda x: x['user_id'] == tf.constant(user_id))\n",
    "\n",
    "# Iterate through the filtered dataset to access the records\n",
    "for record in filtered_ratings:\n",
    "    movie_title = record['movie_title'].numpy().decode('utf-8')\n",
    "    user_rating = record['user_rating'].numpy()\n",
    "    print(f\"Movie: {movie_title}, Rating: {user_rating}\")"
   ]
  }
 ],
 "metadata": {
  "kernelspec": {
   "display_name": "Python 3 (ipykernel)",
   "language": "python",
   "name": "python3"
  },
  "language_info": {
   "codemirror_mode": {
    "name": "ipython",
    "version": 3
   },
   "file_extension": ".py",
   "mimetype": "text/x-python",
   "name": "python",
   "nbconvert_exporter": "python",
   "pygments_lexer": "ipython3",
   "version": "3.10.6"
  },
  "toc": {
   "base_numbering": 1,
   "nav_menu": {},
   "number_sections": true,
   "sideBar": true,
   "skip_h1_title": false,
   "title_cell": "Table of Contents",
   "title_sidebar": "Contents",
   "toc_cell": false,
   "toc_position": {},
   "toc_section_display": true,
   "toc_window_display": false
  }
 },
 "nbformat": 4,
 "nbformat_minor": 5
}
