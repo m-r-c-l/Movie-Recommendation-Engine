{
 "cells": [
  {
   "cell_type": "markdown",
   "id": "a7040048",
   "metadata": {},
   "source": [
    "# Modules"
   ]
  },
  {
   "cell_type": "code",
   "execution_count": 2,
   "id": "e2505918",
   "metadata": {},
   "outputs": [],
   "source": [
    "import numpy as np\n",
    "import pandas as pd"
   ]
  },
  {
   "cell_type": "code",
   "execution_count": 3,
   "id": "3c5f4ec2",
   "metadata": {},
   "outputs": [
    {
     "name": "stderr",
     "output_type": "stream",
     "text": [
      "2024-09-09 21:51:18.653931: I external/local_tsl/tsl/cuda/cudart_stub.cc:31] Could not find cuda drivers on your machine, GPU will not be used.\n",
      "2024-09-09 21:51:18.679692: E external/local_xla/xla/stream_executor/cuda/cuda_dnn.cc:9261] Unable to register cuDNN factory: Attempting to register factory for plugin cuDNN when one has already been registered\n",
      "2024-09-09 21:51:18.679724: E external/local_xla/xla/stream_executor/cuda/cuda_fft.cc:607] Unable to register cuFFT factory: Attempting to register factory for plugin cuFFT when one has already been registered\n",
      "2024-09-09 21:51:18.680673: E external/local_xla/xla/stream_executor/cuda/cuda_blas.cc:1515] Unable to register cuBLAS factory: Attempting to register factory for plugin cuBLAS when one has already been registered\n",
      "2024-09-09 21:51:18.686120: I external/local_tsl/tsl/cuda/cudart_stub.cc:31] Could not find cuda drivers on your machine, GPU will not be used.\n",
      "2024-09-09 21:51:18.687055: I tensorflow/core/platform/cpu_feature_guard.cc:182] This TensorFlow binary is optimized to use available CPU instructions in performance-critical operations.\n",
      "To enable the following instructions: AVX2 FMA, in other operations, rebuild TensorFlow with the appropriate compiler flags.\n",
      "2024-09-09 21:51:19.926203: W tensorflow/compiler/tf2tensorrt/utils/py_utils.cc:38] TF-TRT Warning: Could not find TensorRT\n",
      "/home/marcel/.pyenv/versions/3.10.6/envs/Movie-Recommendation-Engine/lib/python3.10/site-packages/tqdm/auto.py:21: TqdmWarning: IProgress not found. Please update jupyter and ipywidgets. See https://ipywidgets.readthedocs.io/en/stable/user_install.html\n",
      "  from .autonotebook import tqdm as notebook_tqdm\n"
     ]
    }
   ],
   "source": [
    "import tensorflow as tf\n",
    "import tensorflow_datasets as tfds\n",
    "import tensorflow_recommenders as tfrs\n",
    "from tensorflow.keras import layers"
   ]
  },
  {
   "cell_type": "markdown",
   "id": "f5711cd6",
   "metadata": {},
   "source": [
    "# Data import"
   ]
  },
  {
   "cell_type": "code",
   "execution_count": 19,
   "id": "3ae76792",
   "metadata": {},
   "outputs": [],
   "source": [
    "# Ratings data.\n",
    "ratings = tfds.load(\"movielens/100k-ratings\", split=\"all\")\n",
    "# Features of all the available movies.\n",
    "movies = tfds.load(\"movielens/100k-movies\", split=\"all\")"
   ]
  },
  {
   "cell_type": "code",
   "execution_count": 20,
   "id": "cdf51e22",
   "metadata": {},
   "outputs": [],
   "source": [
    "df = tfds.as_dataframe(ratings)"
   ]
  },
  {
   "cell_type": "markdown",
   "id": "918d1814",
   "metadata": {},
   "source": [
    "# Identifying users with the highest genre-specific viewing percentages"
   ]
  },
  {
   "cell_type": "code",
   "execution_count": 10,
   "id": "5fbaf4cd",
   "metadata": {},
   "outputs": [],
   "source": [
    "genre_mapping = {\n",
    "    'Action': 0,\n",
    "    'Adventure': 1,\n",
    "    'Animation': 2,\n",
    "    'Children': 3,\n",
    "    'Comedy': 4,\n",
    "    'Crime': 5,\n",
    "    'Documentary': 6,\n",
    "    'Drama': 7,\n",
    "    'Fantasy': 8,\n",
    "    'Film-Noir': 9,\n",
    "    'Horror': 10,\n",
    "    'IMAX': 11,\n",
    "    'Musical': 12,\n",
    "    'Mystery': 13,\n",
    "    'Romance': 14,\n",
    "    'Sci-Fi': 15,\n",
    "    'Thriller': 16,\n",
    "    'Unknown': 17,\n",
    "    'War': 18,\n",
    "    'Western': 19,\n",
    "    '(no genres listed)': 20\n",
    "}"
   ]
  },
  {
   "cell_type": "markdown",
   "id": "7777602c",
   "metadata": {},
   "source": [
    "### Get user viewing history"
   ]
  },
  {
   "cell_type": "markdown",
   "id": "2436ebba",
   "metadata": {},
   "source": [
    "## Horror (10)"
   ]
  },
  {
   "cell_type": "code",
   "execution_count": 44,
   "id": "18c26ae2",
   "metadata": {
    "scrolled": false
   },
   "outputs": [
    {
     "data": {
      "text/html": [
       "<div>\n",
       "<style scoped>\n",
       "    .dataframe tbody tr th:only-of-type {\n",
       "        vertical-align: middle;\n",
       "    }\n",
       "\n",
       "    .dataframe tbody tr th {\n",
       "        vertical-align: top;\n",
       "    }\n",
       "\n",
       "    .dataframe thead th {\n",
       "        text-align: right;\n",
       "    }\n",
       "</style>\n",
       "<table border=\"1\" class=\"dataframe\">\n",
       "  <thead>\n",
       "    <tr style=\"text-align: right;\">\n",
       "      <th></th>\n",
       "      <th>user_id</th>\n",
       "      <th>total_movie_count</th>\n",
       "      <th>horror_movie_count</th>\n",
       "      <th>horror_percentage</th>\n",
       "    </tr>\n",
       "  </thead>\n",
       "  <tbody>\n",
       "    <tr>\n",
       "      <th>296</th>\n",
       "      <td>b'366'</td>\n",
       "      <td>33</td>\n",
       "      <td>25.0</td>\n",
       "      <td>75.757576</td>\n",
       "    </tr>\n",
       "    <tr>\n",
       "      <th>794</th>\n",
       "      <td>b'814'</td>\n",
       "      <td>35</td>\n",
       "      <td>25.0</td>\n",
       "      <td>71.428571</td>\n",
       "    </tr>\n",
       "    <tr>\n",
       "      <th>561</th>\n",
       "      <td>b'604'</td>\n",
       "      <td>27</td>\n",
       "      <td>17.0</td>\n",
       "      <td>62.962963</td>\n",
       "    </tr>\n",
       "    <tr>\n",
       "      <th>298</th>\n",
       "      <td>b'368'</td>\n",
       "      <td>45</td>\n",
       "      <td>26.0</td>\n",
       "      <td>57.777778</td>\n",
       "    </tr>\n",
       "    <tr>\n",
       "      <th>297</th>\n",
       "      <td>b'367'</td>\n",
       "      <td>58</td>\n",
       "      <td>31.0</td>\n",
       "      <td>53.448276</td>\n",
       "    </tr>\n",
       "  </tbody>\n",
       "</table>\n",
       "</div>"
      ],
      "text/plain": [
       "    user_id  total_movie_count  horror_movie_count  horror_percentage\n",
       "296  b'366'                 33                25.0          75.757576\n",
       "794  b'814'                 35                25.0          71.428571\n",
       "561  b'604'                 27                17.0          62.962963\n",
       "298  b'368'                 45                26.0          57.777778\n",
       "297  b'367'                 58                31.0          53.448276"
      ]
     },
     "execution_count": 44,
     "metadata": {},
     "output_type": "execute_result"
    }
   ],
   "source": [
    "# Calculate the total number of movies watched by each user\n",
    "total_movies_per_user = df.groupby('user_id').size().reset_index(name='total_movie_count')\n",
    "\n",
    "# Filter for rows where 'movie_genres' contains '10' (Horror genre)\n",
    "df_horror = df[df['movie_genres'].apply(lambda x: 10 in [int(i) for i in x])]\n",
    "\n",
    "# Count the number of horror movies watched by each user\n",
    "horror_movies_per_user = df_horror.groupby('user_id').size().reset_index(name='horror_movie_count')\n",
    "\n",
    "# Merge the total movies count with horror movie count\n",
    "user_movie_data = pd.merge(total_movies_per_user, horror_movies_per_user, on='user_id', how='left')\n",
    "\n",
    "user_movie_data['horror_movie_count'] = user_movie_data['horror_movie_count'].fillna(0)\n",
    "\n",
    "# Calculate the percentage of horror movies watched per user\n",
    "user_movie_data['horror_percentage'] = (user_movie_data['horror_movie_count'] / user_movie_data['total_movie_count']) * 100\n",
    "\n",
    "# Sort the users by the percentage of horror movies watched in descending order\n",
    "top_horror_percentage_users = user_movie_data.sort_values(by='horror_percentage', ascending=False)\n",
    "\n",
    "# Print\n",
    "top_horror_percentage_users.head()"
   ]
  },
  {
   "cell_type": "code",
   "execution_count": 48,
   "id": "e1026bea",
   "metadata": {},
   "outputs": [
    {
     "name": "stdout",
     "output_type": "stream",
     "text": [
      "Movie: Natural Born Killers (1994), Rating: 5.0\n",
      "Movie: Pulp Fiction (1994), Rating: 5.0\n",
      "Movie: Scream (1996), Rating: 4.0\n",
      "Movie: Tales from the Crypt Presents: Bordello of Blood (1996), Rating: 4.0\n",
      "Movie: Omen, The (1976), Rating: 5.0\n",
      "Movie: Believers, The (1987), Rating: 2.0\n",
      "Movie: Body Snatchers (1993), Rating: 5.0\n",
      "Movie: Braindead (1992), Rating: 5.0\n",
      "Movie: Psycho (1960), Rating: 5.0\n",
      "Movie: Mute Witness (1994), Rating: 3.0\n",
      "Movie: Army of Darkness (1993), Rating: 4.0\n",
      "Movie: Jaws (1975), Rating: 1.0\n",
      "Movie: Candyman (1992), Rating: 5.0\n",
      "Movie: Interview with the Vampire (1994), Rating: 5.0\n",
      "Movie: Bram Stoker's Dracula (1992), Rating: 5.0\n",
      "Movie: Bride of Frankenstein (1935), Rating: 5.0\n",
      "Movie: Silence of the Lambs, The (1991), Rating: 5.0\n",
      "Movie: American Werewolf in London, An (1981), Rating: 5.0\n",
      "Movie: Evil Dead II (1987), Rating: 5.0\n",
      "Movie: Nosferatu (Nosferatu, eine Symphonie des Grauens) (1922), Rating: 4.0\n",
      "Movie: Shining, The (1980), Rating: 5.0\n",
      "Movie: Lawnmower Man 2: Beyond Cyberspace (1996), Rating: 3.0\n",
      "Movie: Bad Taste (1987), Rating: 5.0\n",
      "Movie: Carrie (1976), Rating: 5.0\n",
      "Movie: Howling, The (1981), Rating: 5.0\n",
      "Movie: From Dusk Till Dawn (1996), Rating: 5.0\n",
      "Movie: Body Snatcher, The (1945), Rating: 5.0\n",
      "Movie: Cape Fear (1991), Rating: 3.0\n",
      "Movie: Abyss, The (1989), Rating: 5.0\n",
      "Movie: Nightmare on Elm Street, A (1984), Rating: 5.0\n",
      "Movie: Mary Shelley's Frankenstein (1994), Rating: 5.0\n",
      "Movie: Twelve Monkeys (1995), Rating: 2.0\n",
      "Movie: Birds, The (1963), Rating: 5.0\n"
     ]
    }
   ],
   "source": [
    "user_id=str(366)\n",
    "\n",
    "# Filter the dataset for user_id = '123'\n",
    "filtered_ratings = ratings.filter(lambda x: x['user_id'] == tf.constant(user_id))\n",
    "\n",
    "# Iterate through the filtered dataset to access the records\n",
    "for record in filtered_ratings:\n",
    "    movie_title = record['movie_title'].numpy().decode('utf-8')\n",
    "    user_rating = record['user_rating'].numpy()\n",
    "    print(f\"Movie: {movie_title}, Rating: {user_rating}\")"
   ]
  },
  {
   "cell_type": "markdown",
   "id": "8bc34061",
   "metadata": {
    "heading_collapsed": true
   },
   "source": [
    "## Children (3)"
   ]
  },
  {
   "cell_type": "code",
   "execution_count": 43,
   "id": "aceea25e",
   "metadata": {
    "hidden": true,
    "scrolled": true
   },
   "outputs": [
    {
     "data": {
      "text/html": [
       "<div>\n",
       "<style scoped>\n",
       "    .dataframe tbody tr th:only-of-type {\n",
       "        vertical-align: middle;\n",
       "    }\n",
       "\n",
       "    .dataframe tbody tr th {\n",
       "        vertical-align: top;\n",
       "    }\n",
       "\n",
       "    .dataframe thead th {\n",
       "        text-align: right;\n",
       "    }\n",
       "</style>\n",
       "<table border=\"1\" class=\"dataframe\">\n",
       "  <thead>\n",
       "    <tr style=\"text-align: right;\">\n",
       "      <th></th>\n",
       "      <th>user_id</th>\n",
       "      <th>total_movie_count</th>\n",
       "      <th>children_movie_count</th>\n",
       "      <th>children_percentage</th>\n",
       "    </tr>\n",
       "  </thead>\n",
       "  <tbody>\n",
       "    <tr>\n",
       "      <th>413</th>\n",
       "      <td>b'471'</td>\n",
       "      <td>31</td>\n",
       "      <td>26.0</td>\n",
       "      <td>83.870968</td>\n",
       "    </tr>\n",
       "    <tr>\n",
       "      <th>579</th>\n",
       "      <td>b'620'</td>\n",
       "      <td>110</td>\n",
       "      <td>44.0</td>\n",
       "      <td>40.000000</td>\n",
       "    </tr>\n",
       "    <tr>\n",
       "      <th>172</th>\n",
       "      <td>b'254'</td>\n",
       "      <td>159</td>\n",
       "      <td>52.0</td>\n",
       "      <td>32.704403</td>\n",
       "    </tr>\n",
       "    <tr>\n",
       "      <th>491</th>\n",
       "      <td>b'541'</td>\n",
       "      <td>133</td>\n",
       "      <td>43.0</td>\n",
       "      <td>32.330827</td>\n",
       "    </tr>\n",
       "    <tr>\n",
       "      <th>803</th>\n",
       "      <td>b'822'</td>\n",
       "      <td>25</td>\n",
       "      <td>8.0</td>\n",
       "      <td>32.000000</td>\n",
       "    </tr>\n",
       "  </tbody>\n",
       "</table>\n",
       "</div>"
      ],
      "text/plain": [
       "    user_id  total_movie_count  children_movie_count  children_percentage\n",
       "413  b'471'                 31                  26.0            83.870968\n",
       "579  b'620'                110                  44.0            40.000000\n",
       "172  b'254'                159                  52.0            32.704403\n",
       "491  b'541'                133                  43.0            32.330827\n",
       "803  b'822'                 25                   8.0            32.000000"
      ]
     },
     "execution_count": 43,
     "metadata": {},
     "output_type": "execute_result"
    }
   ],
   "source": [
    "# Calculate the total number of movies watched by each user\n",
    "total_movies_per_user = df.groupby('user_id').size().reset_index(name='total_movie_count')\n",
    "\n",
    "# Filter for rows where 'movie_genres' contains '3' (Children genre)\n",
    "df_children = df[df['movie_genres'].apply(lambda x: 3 in [int(i) for i in x])]\n",
    "\n",
    "# Count the number of horror movies watched by each user\n",
    "children_movies_per_user = df_children.groupby('user_id').size().reset_index(name='children_movie_count')\n",
    "\n",
    "# Merge the total movies count with horror movie count\n",
    "user_movie_data = pd.merge(total_movies_per_user, children_movies_per_user, on='user_id', how='left')\n",
    "\n",
    "user_movie_data['children_movie_count'] = user_movie_data['children_movie_count'].fillna(0)\n",
    "\n",
    "# Calculate the percentage of horror movies watched per user\n",
    "user_movie_data['children_percentage'] = (user_movie_data['children_movie_count'] / user_movie_data['total_movie_count']) * 100\n",
    "\n",
    "# Sort the users by the percentage of horror movies watched in descending order\n",
    "top_children_percentage_users = user_movie_data.sort_values(by='children_percentage', ascending=False)\n",
    "\n",
    "# Print\n",
    "top_children_percentage_users.head()"
   ]
  },
  {
   "cell_type": "markdown",
   "id": "d0c1ced3",
   "metadata": {
    "heading_collapsed": true,
    "hidden": true
   },
   "source": [
    "### Get user viewing history"
   ]
  },
  {
   "cell_type": "code",
   "execution_count": 47,
   "id": "5a14f586",
   "metadata": {
    "hidden": true
   },
   "outputs": [
    {
     "name": "stdout",
     "output_type": "stream",
     "text": [
      "Movie: First Kid (1996), Rating: 5.0\n",
      "Movie: Jungle Book, The (1994), Rating: 5.0\n",
      "Movie: That Darn Cat! (1997), Rating: 4.0\n",
      "Movie: Snow White and the Seven Dwarfs (1937), Rating: 2.0\n",
      "Movie: Cinderella (1950), Rating: 3.0\n",
      "Movie: Casper (1995), Rating: 3.0\n",
      "Movie: Hunchback of Notre Dame, The (1996), Rating: 1.0\n",
      "Movie: Lion King, The (1994), Rating: 3.0\n",
      "Movie: Toy Story (1995), Rating: 4.0\n",
      "Movie: Mrs. Doubtfire (1993), Rating: 5.0\n",
      "Movie: Aladdin (1992), Rating: 4.0\n",
      "Movie: Home Alone (1990), Rating: 5.0\n",
      "Movie: Homeward Bound: The Incredible Journey (1993), Rating: 5.0\n",
      "Movie: Pinocchio (1940), Rating: 2.0\n",
      "Movie: Star Wars (1977), Rating: 3.0\n",
      "Movie: Fox and the Hound, The (1981), Rating: 2.0\n",
      "Movie: Empire Strikes Back, The (1980), Rating: 4.0\n",
      "Movie: Babe (1995), Rating: 5.0\n",
      "Movie: Willy Wonka and the Chocolate Factory (1971), Rating: 2.0\n",
      "Movie: Winnie the Pooh and the Blustery Day (1968), Rating: 2.0\n",
      "Movie: Alice in Wonderland (1951), Rating: 1.0\n",
      "Movie: Goofy Movie, A (1995), Rating: 4.0\n",
      "Movie: Beauty and the Beast (1991), Rating: 1.0\n",
      "Movie: Dumbo (1941), Rating: 3.0\n",
      "Movie: Aristocats, The (1970), Rating: 5.0\n",
      "Movie: Matilda (1996), Rating: 5.0\n",
      "Movie: Jurassic Park (1993), Rating: 5.0\n",
      "Movie: Fantasia (1940), Rating: 1.0\n",
      "Movie: Robin Hood: Prince of Thieves (1991), Rating: 1.0\n",
      "Movie: Aladdin and the King of Thieves (1996), Rating: 5.0\n",
      "Movie: 101 Dalmatians (1996), Rating: 5.0\n"
     ]
    }
   ],
   "source": [
    "user_id=str(471)\n",
    "\n",
    "# Filter the dataset for user_id = '123'\n",
    "filtered_ratings = ratings.filter(lambda x: x['user_id'] == tf.constant(user_id))\n",
    "\n",
    "# Iterate through the filtered dataset to access the records\n",
    "for record in filtered_ratings:\n",
    "    movie_title = record['movie_title'].numpy().decode('utf-8')\n",
    "    user_rating = record['user_rating'].numpy()\n",
    "    print(f\"Movie: {movie_title}, Rating: {user_rating}\")"
   ]
  }
 ],
 "metadata": {
  "kernelspec": {
   "display_name": "Python 3 (ipykernel)",
   "language": "python",
   "name": "python3"
  },
  "language_info": {
   "codemirror_mode": {
    "name": "ipython",
    "version": 3
   },
   "file_extension": ".py",
   "mimetype": "text/x-python",
   "name": "python",
   "nbconvert_exporter": "python",
   "pygments_lexer": "ipython3",
   "version": "3.10.6"
  },
  "toc": {
   "base_numbering": 1,
   "nav_menu": {},
   "number_sections": true,
   "sideBar": true,
   "skip_h1_title": false,
   "title_cell": "Table of Contents",
   "title_sidebar": "Contents",
   "toc_cell": false,
   "toc_position": {},
   "toc_section_display": true,
   "toc_window_display": false
  }
 },
 "nbformat": 4,
 "nbformat_minor": 5
}
