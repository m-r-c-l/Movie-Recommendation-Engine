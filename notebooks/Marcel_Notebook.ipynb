{
 "cells": [
  {
   "cell_type": "markdown",
   "id": "7801a195",
   "metadata": {
    "heading_collapsed": true
   },
   "source": [
    "# Setup"
   ]
  },
  {
   "cell_type": "markdown",
   "id": "622aabcc",
   "metadata": {
    "heading_collapsed": true,
    "hidden": true
   },
   "source": [
    "## Import modules"
   ]
  },
  {
   "cell_type": "code",
   "execution_count": 1,
   "id": "f9f99aa7",
   "metadata": {
    "hidden": true
   },
   "outputs": [],
   "source": [
    "import numpy as np\n",
    "import pandas as pd"
   ]
  },
  {
   "cell_type": "code",
   "execution_count": 2,
   "id": "7849f16d",
   "metadata": {
    "hidden": true
   },
   "outputs": [],
   "source": [
    "import os\n",
    "import pprint\n",
    "import tempfile"
   ]
  },
  {
   "cell_type": "code",
   "execution_count": 3,
   "id": "48bf9d6a",
   "metadata": {
    "hidden": true
   },
   "outputs": [
    {
     "name": "stderr",
     "output_type": "stream",
     "text": [
      "2024-09-02 22:19:38.633155: I external/local_tsl/tsl/cuda/cudart_stub.cc:31] Could not find cuda drivers on your machine, GPU will not be used.\n",
      "2024-09-02 22:19:38.662003: E external/local_xla/xla/stream_executor/cuda/cuda_dnn.cc:9261] Unable to register cuDNN factory: Attempting to register factory for plugin cuDNN when one has already been registered\n",
      "2024-09-02 22:19:38.662047: E external/local_xla/xla/stream_executor/cuda/cuda_fft.cc:607] Unable to register cuFFT factory: Attempting to register factory for plugin cuFFT when one has already been registered\n",
      "2024-09-02 22:19:38.663025: E external/local_xla/xla/stream_executor/cuda/cuda_blas.cc:1515] Unable to register cuBLAS factory: Attempting to register factory for plugin cuBLAS when one has already been registered\n",
      "2024-09-02 22:19:38.668189: I external/local_tsl/tsl/cuda/cudart_stub.cc:31] Could not find cuda drivers on your machine, GPU will not be used.\n",
      "2024-09-02 22:19:38.669184: I tensorflow/core/platform/cpu_feature_guard.cc:182] This TensorFlow binary is optimized to use available CPU instructions in performance-critical operations.\n",
      "To enable the following instructions: AVX2 FMA, in other operations, rebuild TensorFlow with the appropriate compiler flags.\n",
      "2024-09-02 22:19:39.551628: W tensorflow/compiler/tf2tensorrt/utils/py_utils.cc:38] TF-TRT Warning: Could not find TensorRT\n"
     ]
    }
   ],
   "source": [
    "import tensorflow as tf\n",
    "import tensorflow_datasets as tfds\n",
    "import tensorflow_recommenders as tfrs"
   ]
  },
  {
   "cell_type": "code",
   "execution_count": null,
   "id": "a5f50c4e",
   "metadata": {
    "hidden": true
   },
   "outputs": [],
   "source": [
    "from tensorflow.keras import layers"
   ]
  },
  {
   "cell_type": "code",
   "execution_count": 4,
   "id": "1eeeed37",
   "metadata": {
    "hidden": true
   },
   "outputs": [],
   "source": [
    "from typing import Dict, Text"
   ]
  },
  {
   "cell_type": "code",
   "execution_count": 5,
   "id": "33771774",
   "metadata": {
    "hidden": true
   },
   "outputs": [],
   "source": [
    "from datetime import datetime"
   ]
  },
  {
   "cell_type": "code",
   "execution_count": 6,
   "id": "f546c13c",
   "metadata": {
    "hidden": true
   },
   "outputs": [],
   "source": [
    "import re"
   ]
  },
  {
   "cell_type": "markdown",
   "id": "8469e27b",
   "metadata": {
    "heading_collapsed": true,
    "hidden": true
   },
   "source": [
    "## Import data"
   ]
  },
  {
   "cell_type": "code",
   "execution_count": 52,
   "id": "10b20fdb",
   "metadata": {
    "hidden": true
   },
   "outputs": [
    {
     "data": {
      "text/plain": [
       "'/home/marcel/code/m-r-c-l/Movie-Recommendation-Engine/raw_data'"
      ]
     },
     "execution_count": 52,
     "metadata": {},
     "output_type": "execute_result"
    }
   ],
   "source": [
    "current_directory = os.getcwd()\n",
    "data_directory = os.path.join(current_directory, '..', 'raw_data')\n",
    "data_directory = os.path.abspath(data_directory)\n",
    "data_directory"
   ]
  },
  {
   "cell_type": "code",
   "execution_count": 53,
   "id": "b9844c03",
   "metadata": {
    "hidden": true
   },
   "outputs": [],
   "source": [
    "# Load each CSV file into a DataFrame\n",
    "links_df = pd.read_csv(os.path.join(data_directory, 'ml-latest-small/links.csv'))\n",
    "ratings_df = pd.read_csv(os.path.join(data_directory, 'ml-latest-small/ratings.csv'))\n",
    "tags_df = pd.read_csv(os.path.join(data_directory, 'ml-latest-small/tags.csv'))\n",
    "movies_df = pd.read_csv(os.path.join(data_directory, 'ml-latest-small/movies.csv'))"
   ]
  },
  {
   "cell_type": "markdown",
   "id": "a3baa137",
   "metadata": {
    "heading_collapsed": true,
    "hidden": true
   },
   "source": [
    "## Prepare data"
   ]
  },
  {
   "cell_type": "markdown",
   "id": "3a0fd7dc",
   "metadata": {
    "heading_collapsed": true,
    "hidden": true
   },
   "source": [
    "### Convert timestamp data into datetime data"
   ]
  },
  {
   "cell_type": "code",
   "execution_count": 54,
   "id": "576cab89",
   "metadata": {
    "hidden": true
   },
   "outputs": [],
   "source": [
    "ratings_df['date'] = ratings_df['timestamp'].apply(lambda x: datetime.fromtimestamp(x))\n",
    "ratings_df.drop('timestamp', axis=1, inplace=True)"
   ]
  },
  {
   "cell_type": "markdown",
   "id": "8496e65a",
   "metadata": {
    "heading_collapsed": true,
    "hidden": true
   },
   "source": [
    "### Merge movies_df with ratings_df"
   ]
  },
  {
   "cell_type": "code",
   "execution_count": 55,
   "id": "fc7e9956",
   "metadata": {
    "hidden": true
   },
   "outputs": [],
   "source": [
    "## Merge movies_df with ratings_df\n",
    "merged_df = ratings_df.merge(movies_df[['movieId', 'title', 'genres']], left_on='movieId',right_on='movieId', how='left')"
   ]
  },
  {
   "cell_type": "markdown",
   "id": "62fe1bc2",
   "metadata": {
    "heading_collapsed": true,
    "hidden": true
   },
   "source": [
    "### Convert user and title to string"
   ]
  },
  {
   "cell_type": "code",
   "execution_count": 56,
   "id": "c7e97247",
   "metadata": {
    "hidden": true
   },
   "outputs": [],
   "source": [
    "merged_df['userId'] = merged_df['userId'].astype(str)\n",
    "merged_df['title'] = merged_df['title'].astype(str)"
   ]
  },
  {
   "cell_type": "markdown",
   "id": "697a8813",
   "metadata": {
    "heading_collapsed": true,
    "hidden": true
   },
   "source": [
    "### Clean title data"
   ]
  },
  {
   "cell_type": "code",
   "execution_count": 57,
   "id": "31d3763b",
   "metadata": {
    "hidden": true
   },
   "outputs": [],
   "source": [
    "def clean_title(title):\n",
    "    # Removing year in parentheses\n",
    "    title = re.sub(r'\\(\\d{4}\\)', '', title)\n",
    "    # Removing parentheses\n",
    "    title = title.replace('()', '')\n",
    "    # Striping extra spaces\n",
    "    return title.strip()"
   ]
  },
  {
   "cell_type": "code",
   "execution_count": 59,
   "id": "b2f9079b",
   "metadata": {
    "hidden": true
   },
   "outputs": [],
   "source": [
    "merged_df['movie_title'] = merged_df['title'].apply(clean_title)\n",
    "merged_df.drop('title', axis=1, inplace=True)"
   ]
  },
  {
   "cell_type": "markdown",
   "id": "4902209e",
   "metadata": {
    "heading_collapsed": true,
    "hidden": true
   },
   "source": [
    "### Rename columns"
   ]
  },
  {
   "cell_type": "code",
   "execution_count": 60,
   "id": "364a4b6a",
   "metadata": {
    "hidden": true
   },
   "outputs": [],
   "source": [
    "merged_df = merged_df.rename(columns={'userId': 'user_id', 'movieId': 'movie_id'})"
   ]
  },
  {
   "cell_type": "markdown",
   "id": "c987ce7d",
   "metadata": {
    "heading_collapsed": true,
    "hidden": true
   },
   "source": [
    "### Convert df into tf"
   ]
  },
  {
   "cell_type": "code",
   "execution_count": 62,
   "id": "9a019078",
   "metadata": {
    "hidden": true,
    "scrolled": true
   },
   "outputs": [],
   "source": [
    "data_dict = {\n",
    "    'user_id': tf.convert_to_tensor(merged_df['user_id'].values),\n",
    "    'rating': tf.convert_to_tensor(merged_df['rating'].values),\n",
    "    'movie_title': tf.convert_to_tensor(merged_df['movie_title'].values)\n",
    "}\n",
    "\n",
    "dataset = tf.data.Dataset.from_tensor_slices(data_dict)"
   ]
  },
  {
   "cell_type": "code",
   "execution_count": 63,
   "id": "71dd53a8",
   "metadata": {
    "hidden": true
   },
   "outputs": [],
   "source": [
    "# Select the basic features.\n",
    "ratings = dataset.map(lambda x: {\n",
    "    \"movie_title\": x[\"movie_title\"],\n",
    "    \"user_id\": x[\"user_id\"]\n",
    "})\n",
    "\n",
    "movies = dataset.map(lambda x: x[\"movie_title\"])"
   ]
  },
  {
   "cell_type": "markdown",
   "id": "cdd6604c",
   "metadata": {
    "hidden": true
   },
   "source": [
    "#### Validate that the transformation worked"
   ]
  },
  {
   "cell_type": "code",
   "execution_count": 64,
   "id": "fe3506bd",
   "metadata": {
    "hidden": true,
    "scrolled": true
   },
   "outputs": [
    {
     "name": "stdout",
     "output_type": "stream",
     "text": [
      "{'movie_title': <tf.Tensor: shape=(), dtype=string, numpy=b'Toy Story'>, 'user_id': <tf.Tensor: shape=(), dtype=string, numpy=b'1'>}\n",
      "{'movie_title': <tf.Tensor: shape=(), dtype=string, numpy=b'Grumpier Old Men'>, 'user_id': <tf.Tensor: shape=(), dtype=string, numpy=b'1'>}\n",
      "{'movie_title': <tf.Tensor: shape=(), dtype=string, numpy=b'Heat'>, 'user_id': <tf.Tensor: shape=(), dtype=string, numpy=b'1'>}\n",
      "{'movie_title': <tf.Tensor: shape=(), dtype=string, numpy=b'Seven (a.k.a. Se7en)'>, 'user_id': <tf.Tensor: shape=(), dtype=string, numpy=b'1'>}\n",
      "{'movie_title': <tf.Tensor: shape=(), dtype=string, numpy=b'Usual Suspects, The'>, 'user_id': <tf.Tensor: shape=(), dtype=string, numpy=b'1'>}\n"
     ]
    }
   ],
   "source": [
    "for rating in ratings.take(5):\n",
    "    print(rating)"
   ]
  },
  {
   "cell_type": "code",
   "execution_count": 80,
   "id": "1594a940",
   "metadata": {
    "hidden": true
   },
   "outputs": [
    {
     "name": "stdout",
     "output_type": "stream",
     "text": [
      "{'movie_title': b'Toy Story', 'user_id': b'1'}\n"
     ]
    }
   ],
   "source": [
    "for x in ratings.take(1).as_numpy_iterator():\n",
    "  pprint.pprint(x)"
   ]
  },
  {
   "cell_type": "code",
   "execution_count": 65,
   "id": "6e49f64c",
   "metadata": {
    "hidden": true,
    "scrolled": true
   },
   "outputs": [
    {
     "name": "stdout",
     "output_type": "stream",
     "text": [
      "tf.Tensor(b'Toy Story', shape=(), dtype=string)\n",
      "tf.Tensor(b'Grumpier Old Men', shape=(), dtype=string)\n",
      "tf.Tensor(b'Heat', shape=(), dtype=string)\n",
      "tf.Tensor(b'Seven (a.k.a. Se7en)', shape=(), dtype=string)\n",
      "tf.Tensor(b'Usual Suspects, The', shape=(), dtype=string)\n"
     ]
    }
   ],
   "source": [
    "for movie in movies.take(5):\n",
    "    print(movie)"
   ]
  },
  {
   "cell_type": "code",
   "execution_count": 81,
   "id": "d221bf76",
   "metadata": {
    "hidden": true
   },
   "outputs": [
    {
     "name": "stdout",
     "output_type": "stream",
     "text": [
      "b'Toy Story'\n"
     ]
    }
   ],
   "source": [
    "for x in movies.take(1).as_numpy_iterator():\n",
    "  pprint.pprint(x)"
   ]
  },
  {
   "cell_type": "markdown",
   "id": "39e25bb3",
   "metadata": {
    "heading_collapsed": true
   },
   "source": [
    "# The models"
   ]
  },
  {
   "cell_type": "markdown",
   "id": "65759229",
   "metadata": {
    "heading_collapsed": true,
    "hidden": true
   },
   "source": [
    "## Model I (based on TensorFlow tutorial)"
   ]
  },
  {
   "cell_type": "markdown",
   "id": "d96dcfb2",
   "metadata": {
    "heading_collapsed": true,
    "hidden": true
   },
   "source": [
    "### Train, test, split"
   ]
  },
  {
   "cell_type": "code",
   "execution_count": 67,
   "id": "f8a8c3ca",
   "metadata": {
    "hidden": true
   },
   "outputs": [],
   "source": [
    "tf.random.set_seed(42)\n",
    "shuffled = ratings.shuffle(100_000, seed=42, reshuffle_each_iteration=False)\n",
    "\n",
    "train = shuffled.take(80_000)\n",
    "test = shuffled.skip(80_000).take(20_000)"
   ]
  },
  {
   "cell_type": "markdown",
   "id": "0ced3ccb",
   "metadata": {
    "heading_collapsed": true,
    "hidden": true
   },
   "source": [
    "### Create batches"
   ]
  },
  {
   "cell_type": "code",
   "execution_count": 68,
   "id": "cb7d92be",
   "metadata": {
    "hidden": true
   },
   "outputs": [
    {
     "data": {
      "text/plain": [
       "array([b\"'71\", b\"'Hellboy': The Seeds of Creation\", b\"'Round Midnight\",\n",
       "       b\"'Salem's Lot\", b\"'Til There Was You\",\n",
       "       b\"'Tis the Season for Love\", b\"'burbs, The\", b\"'night Mother\",\n",
       "       b'(500) Days of Summer', b'*batteries not included'], dtype=object)"
      ]
     },
     "execution_count": 68,
     "metadata": {},
     "output_type": "execute_result"
    }
   ],
   "source": [
    "movie_titles = movies.batch(1_000)\n",
    "user_ids = ratings.batch(1_000).map(lambda x: x[\"user_id\"])"
   ]
  },
  {
   "cell_type": "markdown",
   "id": "300fffe6",
   "metadata": {
    "heading_collapsed": true,
    "hidden": true
   },
   "source": [
    "### Get unique user_ids and movie_titles "
   ]
  },
  {
   "cell_type": "markdown",
   "id": "ceb54c54",
   "metadata": {
    "hidden": true
   },
   "source": [
    "This is important because we need to be able to map the raw values of our categorical features to embedding vectors in our models. To do that, we need a vocabulary that maps a raw feature value to an integer in a contiguous range: this allows us to look up the corresponding embeddings in our embedding tables."
   ]
  },
  {
   "cell_type": "code",
   "execution_count": null,
   "id": "5b917325",
   "metadata": {
    "hidden": true
   },
   "outputs": [],
   "source": [
    "unique_movie_titles = np.unique(np.concatenate(list(movie_titles)))\n",
    "unique_user_ids = np.unique(np.concatenate(list(user_ids)))\n",
    "\n",
    "unique_movie_titles[:10]"
   ]
  },
  {
   "cell_type": "markdown",
   "id": "36b3348a",
   "metadata": {
    "heading_collapsed": true,
    "hidden": true
   },
   "source": [
    "### Model setup"
   ]
  },
  {
   "cell_type": "markdown",
   "id": "7bf9aac4",
   "metadata": {
    "hidden": true
   },
   "source": [
    "Choosing the architecture of our model is a key part of modelling.\n",
    "\n",
    "Because we are building a two-tower retrieval model, we can build each tower separately and then combine them in the final model."
   ]
  },
  {
   "cell_type": "markdown",
   "id": "e00cce9a",
   "metadata": {
    "hidden": true
   },
   "source": [
    "#### The query tower"
   ]
  },
  {
   "cell_type": "markdown",
   "id": "bad0171c",
   "metadata": {
    "hidden": true
   },
   "source": [
    "The first step is to decide on the dimensionality of the query and candidate representations. Higher values will correspond to models that may be more accurate, but will also be slower to fit and more prone to overfitting.\n"
   ]
  },
  {
   "cell_type": "code",
   "execution_count": 69,
   "id": "84b00583",
   "metadata": {
    "hidden": true
   },
   "outputs": [],
   "source": [
    "embedding_dimension = 32"
   ]
  },
  {
   "cell_type": "markdown",
   "id": "acdca313",
   "metadata": {
    "hidden": true
   },
   "source": [
    "The second is to define the model itself. Here, we're going to use Keras preprocessing layers to first convert user ids to integers, and then convert those to user embeddings via an Embedding layer. Note that we use the list of unique user ids we computed earlier as a vocabulary:"
   ]
  },
  {
   "cell_type": "markdown",
   "id": "7b2b2deb",
   "metadata": {
    "hidden": true
   },
   "source": [
    "A simple model like this corresponds exactly to a classic matrix factorization approach. While defining a subclass of tf.keras.Model for this simple model might be overkill, we can easily extend it to an arbitrarily complex model using standard Keras components, as long as we return an embedding_dimension-wide output at the end."
   ]
  },
  {
   "cell_type": "code",
   "execution_count": 70,
   "id": "34b3ea1a",
   "metadata": {
    "hidden": true
   },
   "outputs": [],
   "source": [
    "user_model = tf.keras.Sequential([\n",
    "  tf.keras.layers.StringLookup(\n",
    "      vocabulary=unique_user_ids, mask_token=None),\n",
    "  # We add an additional embedding to account for unknown tokens.\n",
    "  tf.keras.layers.Embedding(len(unique_user_ids) + 1, embedding_dimension)\n",
    "])"
   ]
  },
  {
   "cell_type": "markdown",
   "id": "6b87528d",
   "metadata": {
    "hidden": true
   },
   "source": [
    "#### The candidate tower"
   ]
  },
  {
   "cell_type": "markdown",
   "id": "7b3edfd3",
   "metadata": {
    "hidden": true
   },
   "source": [
    "We can do the same with the candidate tower."
   ]
  },
  {
   "cell_type": "code",
   "execution_count": 71,
   "id": "6da25e6c",
   "metadata": {
    "hidden": true
   },
   "outputs": [],
   "source": [
    "movie_model = tf.keras.Sequential([\n",
    "  tf.keras.layers.StringLookup(\n",
    "      vocabulary=unique_movie_titles, mask_token=None),\n",
    "  tf.keras.layers.Embedding(len(unique_movie_titles) + 1, embedding_dimension)\n",
    "])"
   ]
  },
  {
   "cell_type": "markdown",
   "id": "2dca60aa",
   "metadata": {
    "hidden": true
   },
   "source": [
    "#### Metrics"
   ]
  },
  {
   "cell_type": "markdown",
   "id": "aad38d22",
   "metadata": {
    "hidden": true
   },
   "source": [
    "In our training data we have positive (user, movie) pairs. To figure out how good our model is, we need to compare the affinity score that the model calculates for this pair to the scores of all the other possible candidates: if the score for the positive pair is higher than for all other candidates, our model is highly accurate.\n",
    "\n",
    "To do this, we can use the tfrs.metrics.FactorizedTopK metric. The metric has one required argument: the dataset of candidates that are used as implicit negatives for evaluation.\n",
    "\n",
    "In our case, that's the movies dataset, converted into embeddings via our movie model:"
   ]
  },
  {
   "cell_type": "code",
   "execution_count": 72,
   "id": "fd53d0eb",
   "metadata": {
    "hidden": true
   },
   "outputs": [],
   "source": [
    "metrics = tfrs.metrics.FactorizedTopK(\n",
    "  candidates=movies.batch(128).map(movie_model)\n",
    ")"
   ]
  },
  {
   "cell_type": "markdown",
   "id": "7bd82282",
   "metadata": {
    "hidden": true
   },
   "source": [
    "#### Loss"
   ]
  },
  {
   "cell_type": "markdown",
   "id": "c2e360c9",
   "metadata": {
    "hidden": true
   },
   "source": [
    "The next component is the loss used to train our model. TFRS has several loss layers and tasks to make this easy.\n",
    "\n",
    "In this instance, we'll make use of the Retrieval task object: a convenience wrapper that bundles together the loss function and metric computation.\n",
    "\n",
    "The task itself is a Keras layer that takes the query and candidate embeddings as arguments, and returns the computed loss: we'll use that to implement the model's training loop."
   ]
  },
  {
   "cell_type": "code",
   "execution_count": 73,
   "id": "0ada7aab",
   "metadata": {
    "hidden": true
   },
   "outputs": [],
   "source": [
    "task = tfrs.tasks.Retrieval(\n",
    "  metrics=metrics\n",
    ")"
   ]
  },
  {
   "cell_type": "markdown",
   "id": "234c0fe7",
   "metadata": {
    "hidden": true
   },
   "source": [
    "#### The full model"
   ]
  },
  {
   "cell_type": "markdown",
   "id": "30f83daf",
   "metadata": {
    "hidden": true
   },
   "source": [
    "We can now put it all together into a model. TFRS exposes a base model class (tfrs.models.Model) which streamlines building models: all we need to do is to set up the components in the __init__ method, and implement the compute_loss method, taking in the raw features and returning a loss value.\n",
    "\n",
    "The base model will then take care of creating the appropriate training loop to fit our model.\n",
    "\n",
    "The tfrs.Model base class is a simply convenience class: it allows us to compute both training and test losses using the same method."
   ]
  },
  {
   "cell_type": "code",
   "execution_count": 74,
   "id": "a16bfe8a",
   "metadata": {
    "hidden": true
   },
   "outputs": [],
   "source": [
    "class MovielensModel(tfrs.Model):\n",
    "\n",
    "  def __init__(self, user_model, movie_model):\n",
    "    super().__init__()\n",
    "    self.movie_model: tf.keras.Model = movie_model\n",
    "    self.user_model: tf.keras.Model = user_model\n",
    "    self.task: tf.keras.layers.Layer = task\n",
    "\n",
    "  def compute_loss(self, features: Dict[Text, tf.Tensor], training=False) -> tf.Tensor:\n",
    "    # We pick out the user features and pass them into the user model.\n",
    "    user_embeddings = self.user_model(features[\"user_id\"])\n",
    "    # And pick out the movie features and pass them into the movie model,\n",
    "    # getting embeddings back.\n",
    "    positive_movie_embeddings = self.movie_model(features[\"movie_title\"])\n",
    "\n",
    "    # The task computes the loss and the metrics.\n",
    "    return self.task(user_embeddings, positive_movie_embeddings)"
   ]
  },
  {
   "cell_type": "markdown",
   "id": "4cd491d5",
   "metadata": {
    "heading_collapsed": true,
    "hidden": true
   },
   "source": [
    "### Fitting and evaluating"
   ]
  },
  {
   "cell_type": "markdown",
   "id": "a0d6b39c",
   "metadata": {
    "hidden": true
   },
   "source": [
    "After defining the model, we can use standard Keras fitting and evaluation routines to fit and evaluate the model.\n",
    "\n",
    "Let's first instantiate the model."
   ]
  },
  {
   "cell_type": "code",
   "execution_count": 75,
   "id": "7c0de20a",
   "metadata": {
    "hidden": true
   },
   "outputs": [],
   "source": [
    "model = MovielensModel(user_model, movie_model)\n",
    "model.compile(optimizer=tf.keras.optimizers.Adagrad(learning_rate=0.1))"
   ]
  },
  {
   "cell_type": "markdown",
   "id": "0447b501",
   "metadata": {
    "hidden": true
   },
   "source": [
    "Then shuffle, batch, and cache the training and evaluation data."
   ]
  },
  {
   "cell_type": "code",
   "execution_count": 76,
   "id": "88d1bb8a",
   "metadata": {
    "hidden": true
   },
   "outputs": [],
   "source": [
    "cached_train = train.shuffle(100_000).batch(8192).cache()\n",
    "cached_test = test.batch(4096).cache()"
   ]
  },
  {
   "cell_type": "markdown",
   "id": "2ec2a1e7",
   "metadata": {
    "hidden": true
   },
   "source": [
    "Then train the model:"
   ]
  },
  {
   "cell_type": "code",
   "execution_count": 77,
   "id": "7e41d795",
   "metadata": {
    "hidden": true
   },
   "outputs": [
    {
     "name": "stdout",
     "output_type": "stream",
     "text": [
      "Epoch 1/3\n"
     ]
    },
    {
     "name": "stderr",
     "output_type": "stream",
     "text": [
      "2024-09-02 22:44:05.186418: W external/local_tsl/tsl/framework/cpu_allocator_impl.cc:83] Allocation of 268435456 exceeds 10% of free system memory.\n",
      "2024-09-02 22:44:05.279542: W external/local_tsl/tsl/framework/cpu_allocator_impl.cc:83] Allocation of 268435456 exceeds 10% of free system memory.\n"
     ]
    },
    {
     "name": "stdout",
     "output_type": "stream",
     "text": [
      "\r",
      " 1/10 [==>...........................] - ETA: 1:37 - factorized_top_k/top_1_categorical_accuracy: 0.0000e+00 - factorized_top_k/top_5_categorical_accuracy: 0.0000e+00 - factorized_top_k/top_10_categorical_accuracy: 0.0000e+00 - factorized_top_k/top_50_categorical_accuracy: 2.4414e-04 - factorized_top_k/top_100_categorical_accuracy: 3.6621e-04 - loss: 73817.9844 - regularization_loss: 0.0000e+00 - total_loss: 73817.9844"
     ]
    },
    {
     "name": "stderr",
     "output_type": "stream",
     "text": [
      "2024-09-02 22:44:13.665572: W external/local_tsl/tsl/framework/cpu_allocator_impl.cc:83] Allocation of 268435456 exceeds 10% of free system memory.\n",
      "2024-09-02 22:44:13.773968: W external/local_tsl/tsl/framework/cpu_allocator_impl.cc:83] Allocation of 268435456 exceeds 10% of free system memory.\n"
     ]
    },
    {
     "name": "stdout",
     "output_type": "stream",
     "text": [
      "\b\b\b\b\b\b\b\b\b\b\b\b\b\b\b\b\b\b\b\b\b\b\b\b\b\b\b\b\b\b\b\b\b\b\b\b\b\b\b\b\b\b\b\b\b\b\b\b\b\b\b\b\b\b\b\b\b\b\b\b\b\b\b\b\b\b\b\b\b\b\b\b\b\b\b\b\b\b\b\b\b\b\b\b\b\b\b\b\b\b\b\b\b\b\b\b\b\b\b\b\b\b\b\b\b\b\b\b\b\b\b\b\b\b\b\b\b\b\b\b\b\b\b\b\b\b\b\b\b\b\b\b\b\b\b\b\b\b\b\b\b\b\b\b\b\b\b\b\b\b\b\b\b\b\b\b\b\b\b\b\b\b\b\b\b\b\b\b\b\b\b\b\b\b\b\b\b\b\b\b\b\b\b\b\b\b\b\b\b\b\b\b\b\b\b\b\b\b\b\b\b\b\b\b\b\b\b\b\b\b\b\b\b\b\b\b\b\b\b\b\b\b\b\b\b\b\b\b\b\b\b\b\b\b\b\b\b\b\b\b\b\b\b\b\b\b\b\b\b\b\b\b\b\b\b\b\b\b\b\b\b\b\b\b\b\b\b\b\b\b\b\b\b\b\b\b\b\b\b\b\b\b\b\b\b\b\b\b\b\b\b\b\b\b\b\b\b\b\b\b\b\b\b\b\b\b\b\b\b\b\b\b\b\b\b\b\b\b\b\b\b\b\b\b\b\b\b\b\b\b\b\b\b\b\b\b\b\b\b\b\b\b\b\b\b\b\b\b\b\b\b\b\b\b\b\b\b\b\b\b\b\b\b\b\b\b\b\b\b\b\b\b\b\b\b\b\b\b\b\b\b\b\b\b\b\b\b\b\b\b\b\b\b\b\b\b\b\b\b\b\b\b\b\b\b\b\b\b\b\b\b\b\b\b\b\b\b\b\b\b\b\b\r",
      " 2/10 [=====>........................] - ETA: 1:10 - factorized_top_k/top_1_categorical_accuracy: 0.0000e+00 - factorized_top_k/top_5_categorical_accuracy: 0.0000e+00 - factorized_top_k/top_10_categorical_accuracy: 0.0000e+00 - factorized_top_k/top_50_categorical_accuracy: 1.2207e-04 - factorized_top_k/top_100_categorical_accuracy: 1.8311e-04 - loss: 73818.4336 - regularization_loss: 0.0000e+00 - total_loss: 73818.4336"
     ]
    },
    {
     "name": "stderr",
     "output_type": "stream",
     "text": [
      "2024-09-02 22:44:22.521051: W external/local_tsl/tsl/framework/cpu_allocator_impl.cc:83] Allocation of 268435456 exceeds 10% of free system memory.\n"
     ]
    },
    {
     "name": "stdout",
     "output_type": "stream",
     "text": [
      "10/10 [==============================] - 87s 8s/step - factorized_top_k/top_1_categorical_accuracy: 0.0000e+00 - factorized_top_k/top_5_categorical_accuracy: 0.0000e+00 - factorized_top_k/top_10_categorical_accuracy: 0.0000e+00 - factorized_top_k/top_50_categorical_accuracy: 3.7500e-05 - factorized_top_k/top_100_categorical_accuracy: 6.2500e-05 - loss: 69912.8395 - regularization_loss: 0.0000e+00 - total_loss: 69912.8395\n",
      "Epoch 2/3\n",
      "10/10 [==============================] - 99s 10s/step - factorized_top_k/top_1_categorical_accuracy: 6.6250e-04 - factorized_top_k/top_5_categorical_accuracy: 9.1250e-04 - factorized_top_k/top_10_categorical_accuracy: 0.0010 - factorized_top_k/top_50_categorical_accuracy: 0.0016 - factorized_top_k/top_100_categorical_accuracy: 0.0028 - loss: 67372.8700 - regularization_loss: 0.0000e+00 - total_loss: 67372.8700\n",
      "Epoch 3/3\n",
      "10/10 [==============================] - 100s 10s/step - factorized_top_k/top_1_categorical_accuracy: 5.8750e-04 - factorized_top_k/top_5_categorical_accuracy: 8.0000e-04 - factorized_top_k/top_10_categorical_accuracy: 9.1250e-04 - factorized_top_k/top_50_categorical_accuracy: 0.0034 - factorized_top_k/top_100_categorical_accuracy: 0.0069 - loss: 65306.1222 - regularization_loss: 0.0000e+00 - total_loss: 65306.1222\n"
     ]
    },
    {
     "data": {
      "text/plain": [
       "<keras.src.callbacks.History at 0x7fc8ec515810>"
      ]
     },
     "execution_count": 77,
     "metadata": {},
     "output_type": "execute_result"
    }
   ],
   "source": [
    "model.fit(cached_train, epochs=3)"
   ]
  },
  {
   "cell_type": "markdown",
   "id": "969da83f",
   "metadata": {
    "hidden": true
   },
   "source": [
    "If you want to monitor the training process with TensorBoard, you can add a TensorBoard callback to fit() function and then start TensorBoard using %tensorboard --logdir logs/fit. Please refer to TensorBoard documentation for more details.\n",
    "\n",
    "As the model trains, the loss is falling and a set of top-k retrieval metrics is updated. These tell us whether the true positive is in the top-k retrieved items from the entire candidate set. For example, a top-5 categorical accuracy metric of 0.2 would tell us that, on average, the true positive is in the top 5 retrieved items 20% of the time.\n",
    "\n",
    "Note that, in this example, we evaluate the metrics during training as well as evaluation. Because this can be quite slow with large candidate sets, it may be prudent to turn metric calculation off in training, and only run it in evaluation."
   ]
  },
  {
   "cell_type": "markdown",
   "id": "bd8e2c46",
   "metadata": {
    "hidden": true
   },
   "source": [
    "Finally, we can evaluate our model on the test set:"
   ]
  },
  {
   "cell_type": "code",
   "execution_count": 78,
   "id": "a0314d76",
   "metadata": {
    "hidden": true
   },
   "outputs": [
    {
     "name": "stdout",
     "output_type": "stream",
     "text": [
      "5/5 [==============================] - 25s 5s/step - factorized_top_k/top_1_categorical_accuracy: 7.5000e-04 - factorized_top_k/top_5_categorical_accuracy: 7.5000e-04 - factorized_top_k/top_10_categorical_accuracy: 7.5000e-04 - factorized_top_k/top_50_categorical_accuracy: 0.0016 - factorized_top_k/top_100_categorical_accuracy: 0.0029 - loss: 31083.9222 - regularization_loss: 0.0000e+00 - total_loss: 31083.9222\n"
     ]
    },
    {
     "data": {
      "text/plain": [
       "{'factorized_top_k/top_1_categorical_accuracy': 0.000750000006519258,\n",
       " 'factorized_top_k/top_5_categorical_accuracy': 0.000750000006519258,\n",
       " 'factorized_top_k/top_10_categorical_accuracy': 0.000750000006519258,\n",
       " 'factorized_top_k/top_50_categorical_accuracy': 0.0015999999595806003,\n",
       " 'factorized_top_k/top_100_categorical_accuracy': 0.002850000048056245,\n",
       " 'loss': 28238.7421875,\n",
       " 'regularization_loss': 0,\n",
       " 'total_loss': 28238.7421875}"
      ]
     },
     "execution_count": 78,
     "metadata": {},
     "output_type": "execute_result"
    }
   ],
   "source": [
    "model.evaluate(cached_test, return_dict=True)"
   ]
  },
  {
   "cell_type": "markdown",
   "id": "2b2a867d",
   "metadata": {
    "hidden": true
   },
   "source": [
    "Test set performance is much worse than training performance. This is due to two factors:\n",
    "\n",
    "1. Our model is likely to perform better on the data that it has seen, simply because it can memorize it. This overfitting phenomenon is especially strong when models have many parameters. It can be mediated by model regularization and use of user and movie features that help the model generalize better to unseen data.\n",
    "2. The model is re-recommending some of users' already watched movies. These known-positive watches can crowd out test movies out of top K recommendations.\n",
    "\n",
    "The second phenomenon can be tackled by excluding previously seen movies from test recommendations. This approach is relatively common in the recommender systems literature, but we don't follow it in these tutorials. If not recommending past watches is important, we should expect appropriately specified models to learn this behaviour automatically from past user history and contextual information. Additionally, it is often appropriate to recommend the same item multiple times (say, an evergreen TV series or a regularly purchased item)."
   ]
  },
  {
   "cell_type": "markdown",
   "id": "ace851fd",
   "metadata": {
    "heading_collapsed": true,
    "hidden": true
   },
   "source": [
    "### Making predictions"
   ]
  },
  {
   "cell_type": "markdown",
   "id": "de105911",
   "metadata": {
    "hidden": true
   },
   "source": [
    "Now that we have a model, we would like to be able to make predictions. We can use the tfrs.layers.factorized_top_k.BruteForce layer to do this."
   ]
  },
  {
   "cell_type": "code",
   "execution_count": null,
   "id": "c75fbadc",
   "metadata": {
    "hidden": true
   },
   "outputs": [],
   "source": [
    "# Create a model that takes in raw query features, and\n",
    "index = tfrs.layers.factorized_top_k.BruteForce(model.user_model)\n",
    "# recommends movies out of the entire movies dataset.\n",
    "index.index_from_dataset(\n",
    "  tf.data.Dataset.zip((movies.batch(100), movies.batch(100).map(model.movie_model)))\n",
    ")\n",
    "\n",
    "# Get recommendations.\n",
    "_, titles = index(tf.constant([\"42\"]))\n",
    "print(f\"Recommendations for user 42: {titles[0, :3]}\")"
   ]
  },
  {
   "cell_type": "markdown",
   "id": "7159599c",
   "metadata": {
    "heading_collapsed": true,
    "hidden": true
   },
   "source": [
    "### Deploying the model"
   ]
  },
  {
   "cell_type": "markdown",
   "id": "b113a608",
   "metadata": {
    "hidden": true
   },
   "source": [
    "Here's an interesting section in the tutorial that talk about how to make predictions faster and more efficient: https://www.tensorflow.org/recommenders/examples/basic_retrieval#model_serving"
   ]
  },
  {
   "cell_type": "markdown",
   "id": "7bd95d31",
   "metadata": {
    "heading_collapsed": true,
    "hidden": true
   },
   "source": [
    "## Model II (based on Kaggle example)"
   ]
  },
  {
   "cell_type": "code",
   "execution_count": 7,
   "id": "1f7f0b6d",
   "metadata": {
    "hidden": true
   },
   "outputs": [
    {
     "ename": "NameError",
     "evalue": "name 'dataset' is not defined",
     "output_type": "error",
     "traceback": [
      "\u001b[0;31m---------------------------------------------------------------------------\u001b[0m",
      "\u001b[0;31mNameError\u001b[0m                                 Traceback (most recent call last)",
      "Cell \u001b[0;32mIn[7], line 2\u001b[0m\n\u001b[1;32m      1\u001b[0m \u001b[38;5;66;03m# Select the basic features (including rating now)\u001b[39;00m\n\u001b[0;32m----> 2\u001b[0m ratings \u001b[38;5;241m=\u001b[39m \u001b[43mdataset\u001b[49m\u001b[38;5;241m.\u001b[39mmap(\u001b[38;5;28;01mlambda\u001b[39;00m x: {\n\u001b[1;32m      3\u001b[0m     \u001b[38;5;124m\"\u001b[39m\u001b[38;5;124mmovie_title\u001b[39m\u001b[38;5;124m\"\u001b[39m: x[\u001b[38;5;124m\"\u001b[39m\u001b[38;5;124mmovie_title\u001b[39m\u001b[38;5;124m\"\u001b[39m],\n\u001b[1;32m      4\u001b[0m     \u001b[38;5;124m\"\u001b[39m\u001b[38;5;124muser_id\u001b[39m\u001b[38;5;124m\"\u001b[39m: x[\u001b[38;5;124m\"\u001b[39m\u001b[38;5;124muser_id\u001b[39m\u001b[38;5;124m\"\u001b[39m],\n\u001b[1;32m      5\u001b[0m     \u001b[38;5;124m\"\u001b[39m\u001b[38;5;124mrating\u001b[39m\u001b[38;5;124m\"\u001b[39m: \u001b[38;5;28mfloat\u001b[39m(x[\u001b[38;5;124m\"\u001b[39m\u001b[38;5;124mrating\u001b[39m\u001b[38;5;124m\"\u001b[39m])\n\u001b[1;32m      6\u001b[0m })\n\u001b[1;32m      8\u001b[0m movies \u001b[38;5;241m=\u001b[39m dataset\u001b[38;5;241m.\u001b[39mmap(\u001b[38;5;28;01mlambda\u001b[39;00m x: x[\u001b[38;5;124m\"\u001b[39m\u001b[38;5;124mmovie_title\u001b[39m\u001b[38;5;124m\"\u001b[39m])\n",
      "\u001b[0;31mNameError\u001b[0m: name 'dataset' is not defined"
     ]
    }
   ],
   "source": [
    "# Select the basic features (including rating now)\n",
    "ratings = dataset.map(lambda x: {\n",
    "    \"movie_title\": x[\"movie_title\"],\n",
    "    \"user_id\": x[\"user_id\"],\n",
    "    \"rating\": float(x[\"rating\"])\n",
    "})\n",
    "\n",
    "movies = dataset.map(lambda x: x[\"movie_title\"])"
   ]
  },
  {
   "cell_type": "code",
   "execution_count": 84,
   "id": "8ba07171",
   "metadata": {
    "hidden": true,
    "scrolled": true
   },
   "outputs": [
    {
     "name": "stdout",
     "output_type": "stream",
     "text": [
      "Total Data: 100836\n"
     ]
    }
   ],
   "source": [
    "print('Total Data: {}'.format(len(ratings)))\n",
    "\n",
    "tf.random.set_seed(42)\n",
    "shuffled = ratings.shuffle(100_000, seed=42, reshuffle_each_iteration=False)\n",
    "\n",
    "train = ratings.take(35_000)\n",
    "test = ratings.skip(35_000).take(8_188)"
   ]
  },
  {
   "cell_type": "code",
   "execution_count": 86,
   "id": "f259b920",
   "metadata": {
    "hidden": true,
    "scrolled": true
   },
   "outputs": [
    {
     "name": "stdout",
     "output_type": "stream",
     "text": [
      "Unique Movies: 9446\n",
      "Unique users: 610\n"
     ]
    }
   ],
   "source": [
    "movie_titles = movies.batch(1_000)\n",
    "user_ids = ratings.batch(1_000).map(lambda x: x[\"user_id\"])\n",
    "\n",
    "unique_movie_titles = np.unique(np.concatenate(list(movie_titles)))\n",
    "unique_user_ids = np.unique(np.concatenate(list(user_ids)))\n",
    "\n",
    "print('Unique Movies: {}'.format(len(unique_movie_titles)))\n",
    "print('Unique users: {}'.format(len(unique_user_ids)))"
   ]
  },
  {
   "cell_type": "code",
   "execution_count": 87,
   "id": "2ecc3d8f",
   "metadata": {
    "hidden": true
   },
   "outputs": [],
   "source": [
    "class MovieModel(tfrs.models.Model):\n",
    "\n",
    "  def __init__(self, rating_weight: float, retrieval_weight: float) -> None:\n",
    "    # We take the loss weights in the constructor: this allows us to instantiate\n",
    "    # several model objects with different loss weights.\n",
    "\n",
    "    super().__init__()\n",
    "\n",
    "    embedding_dimension = 64\n",
    "\n",
    "    # User and movie models.\n",
    "    self.movie_model: tf.keras.layers.Layer = tf.keras.Sequential([\n",
    "      tf.keras.layers.StringLookup(\n",
    "        vocabulary=unique_movie_titles, mask_token=None),\n",
    "      tf.keras.layers.Embedding(len(unique_movie_titles) + 1, embedding_dimension)\n",
    "    ])\n",
    "    self.user_model: tf.keras.layers.Layer = tf.keras.Sequential([\n",
    "      tf.keras.layers.StringLookup(\n",
    "        vocabulary=unique_user_ids, mask_token=None),\n",
    "      tf.keras.layers.Embedding(len(unique_user_ids) + 1, embedding_dimension)\n",
    "    ])\n",
    "\n",
    "    # A small model to take in user and movie embeddings and predict ratings.\n",
    "    # We can make this as complicated as we want as long as we output a scalar\n",
    "    # as our prediction.\n",
    "    self.rating_model = tf.keras.Sequential([\n",
    "        tf.keras.layers.Dense(256, activation=\"relu\"),\n",
    "        tf.keras.layers.Dense(128, activation=\"relu\"),\n",
    "        tf.keras.layers.Dense(1),\n",
    "    ])\n",
    "\n",
    "    # The tasks.\n",
    "    self.rating_task: tf.keras.layers.Layer = tfrs.tasks.Ranking(\n",
    "        loss=tf.keras.losses.MeanSquaredError(),\n",
    "        metrics=[tf.keras.metrics.RootMeanSquaredError()],\n",
    "    )\n",
    "    self.retrieval_task: tf.keras.layers.Layer = tfrs.tasks.Retrieval(\n",
    "        metrics=tfrs.metrics.FactorizedTopK(\n",
    "            candidates=movies.batch(128).map(self.movie_model)\n",
    "        )\n",
    "    )\n",
    "\n",
    "    # The loss weights.\n",
    "    self.rating_weight = rating_weight\n",
    "    self.retrieval_weight = retrieval_weight\n",
    "\n",
    "  def call(self, features: Dict[Text, tf.Tensor]) -> tf.Tensor:\n",
    "    # We pick out the user features and pass them into the user model.\n",
    "    user_embeddings = self.user_model(features[\"user_id\"])\n",
    "    # And pick out the movie features and pass them into the movie model.\n",
    "    movie_embeddings = self.movie_model(features[\"movie_title\"])\n",
    "    \n",
    "    return (\n",
    "        user_embeddings,\n",
    "        movie_embeddings,\n",
    "        # We apply the multi-layered rating model to a concatentation of\n",
    "        # user and movie embeddings.\n",
    "        self.rating_model(\n",
    "            tf.concat([user_embeddings, movie_embeddings], axis=1)\n",
    "        ),\n",
    "    )\n",
    "\n",
    "  def compute_loss(self, features: Dict[Text, tf.Tensor], training=False) -> tf.Tensor:\n",
    "\n",
    "    ratings = features.pop(\"rating\")\n",
    "\n",
    "    user_embeddings, movie_embeddings, rating_predictions = self(features)\n",
    "\n",
    "    # We compute the loss for each task.\n",
    "    rating_loss = self.rating_task(\n",
    "        labels=ratings,\n",
    "        predictions=rating_predictions,\n",
    "    )\n",
    "    retrieval_loss = self.retrieval_task(user_embeddings, movie_embeddings)\n",
    "\n",
    "    # And combine them using the loss weights.\n",
    "    return (self.rating_weight * rating_loss\n",
    "            + self.retrieval_weight * retrieval_loss)"
   ]
  },
  {
   "cell_type": "code",
   "execution_count": 88,
   "id": "ad2b197f",
   "metadata": {
    "hidden": true
   },
   "outputs": [],
   "source": [
    "model = MovieModel(rating_weight=1.0, retrieval_weight=1.0)"
   ]
  },
  {
   "cell_type": "code",
   "execution_count": 89,
   "id": "601b8454",
   "metadata": {
    "hidden": true,
    "scrolled": true
   },
   "outputs": [
    {
     "name": "stdout",
     "output_type": "stream",
     "text": [
      "Epoch 1/3\n",
      "35/35 [==============================] - 51s 1s/step - root_mean_squared_error: 1.4769 - factorized_top_k/top_1_categorical_accuracy: 1.1429e-04 - factorized_top_k/top_5_categorical_accuracy: 1.1429e-04 - factorized_top_k/top_10_categorical_accuracy: 1.1429e-04 - factorized_top_k/top_50_categorical_accuracy: 1.4286e-04 - factorized_top_k/top_100_categorical_accuracy: 3.4286e-04 - loss: 6811.1626 - regularization_loss: 0.0000e+00 - total_loss: 6811.1626\n",
      "Epoch 2/3\n",
      "35/35 [==============================] - 54s 2s/step - root_mean_squared_error: 1.0137 - factorized_top_k/top_1_categorical_accuracy: 4.0000e-04 - factorized_top_k/top_5_categorical_accuracy: 4.0000e-04 - factorized_top_k/top_10_categorical_accuracy: 4.0000e-04 - factorized_top_k/top_50_categorical_accuracy: 0.0010 - factorized_top_k/top_100_categorical_accuracy: 0.0025 - loss: 6417.8068 - regularization_loss: 0.0000e+00 - total_loss: 6417.8068\n",
      "Epoch 3/3\n",
      "35/35 [==============================] - 56s 2s/step - root_mean_squared_error: 0.9803 - factorized_top_k/top_1_categorical_accuracy: 2.5714e-04 - factorized_top_k/top_5_categorical_accuracy: 2.8571e-04 - factorized_top_k/top_10_categorical_accuracy: 4.0000e-04 - factorized_top_k/top_50_categorical_accuracy: 0.0022 - factorized_top_k/top_100_categorical_accuracy: 0.0053 - loss: 6057.1323 - regularization_loss: 0.0000e+00 - total_loss: 6057.1323\n"
     ]
    },
    {
     "data": {
      "text/plain": [
       "<keras.src.callbacks.History at 0x7fc8ff34e5c0>"
      ]
     },
     "execution_count": 89,
     "metadata": {},
     "output_type": "execute_result"
    }
   ],
   "source": [
    "model.compile(optimizer=tf.keras.optimizers.Adagrad(0.1))\n",
    "\n",
    "cached_train = train.shuffle(100_000).batch(1_000).cache()\n",
    "cached_test = test.batch(1_000).cache()\n",
    "\n",
    "model.fit(cached_train, epochs=3)"
   ]
  },
  {
   "cell_type": "code",
   "execution_count": 90,
   "id": "77eea52f",
   "metadata": {
    "hidden": true
   },
   "outputs": [
    {
     "name": "stdout",
     "output_type": "stream",
     "text": [
      "9/9 [==============================] - 12s 1s/step - root_mean_squared_error: 0.9467 - factorized_top_k/top_1_categorical_accuracy: 2.4426e-04 - factorized_top_k/top_5_categorical_accuracy: 2.4426e-04 - factorized_top_k/top_10_categorical_accuracy: 2.4426e-04 - factorized_top_k/top_50_categorical_accuracy: 4.8852e-04 - factorized_top_k/top_100_categorical_accuracy: 8.5491e-04 - loss: 5730.2383 - regularization_loss: 0.0000e+00 - total_loss: 5730.2383\n",
      "\n",
      "Retrieval top-100 accuracy: 0.001\n",
      "Ranking RMSE: 0.947\n"
     ]
    }
   ],
   "source": [
    "metrics = model.evaluate(cached_test, return_dict=True)\n",
    "\n",
    "print(f\"\\nRetrieval top-100 accuracy: {metrics['factorized_top_k/top_100_categorical_accuracy']:.3f}\")\n",
    "print(f\"Ranking RMSE: {metrics['root_mean_squared_error']:.3f}\")"
   ]
  },
  {
   "cell_type": "code",
   "execution_count": null,
   "id": "36bbb4c6",
   "metadata": {
    "hidden": true
   },
   "outputs": [],
   "source": [
    "#### model.save_weights('tfrs.h5')"
   ]
  },
  {
   "cell_type": "code",
   "execution_count": null,
   "id": "880e633a",
   "metadata": {
    "hidden": true
   },
   "outputs": [],
   "source": [
    "def predict_movie(user, top_n=3):\n",
    "    # Create a model that takes in raw query features, and\n",
    "    index = tfrs.layers.factorized_top_k.BruteForce(model.user_model)\n",
    "    # recommends movies out of the entire movies dataset.\n",
    "    index.index_from_dataset(\n",
    "      tf.data.Dataset.zip((movies.batch(100), movies.batch(100).map(model.movie_model)))\n",
    "    )\n",
    "\n",
    "    # Get recommendations.\n",
    "    _, titles = index(tf.constant([str(user)]))\n",
    "    \n",
    "    print('Top {} recommendations for user {}:\\n'.format(top_n, user))\n",
    "    for i, title in enumerate(titles[0, :top_n].numpy()):\n",
    "        print('{}. {}'.format(i+1, title.decode(\"utf-8\")))\n",
    "\n",
    "def predict_rating(user, movie):\n",
    "    trained_movie_embeddings, trained_user_embeddings, predicted_rating = model({\n",
    "          \"userId\": np.array([str(user)]),\n",
    "          \"original_title\": np.array([movie])\n",
    "      })\n",
    "    print(\"Predicted rating for {}: {}\".format(movie, predicted_rating.numpy()[0][0]))"
   ]
  }
 ],
 "metadata": {
  "kernelspec": {
   "display_name": "Python 3 (ipykernel)",
   "language": "python",
   "name": "python3"
  },
  "language_info": {
   "codemirror_mode": {
    "name": "ipython",
    "version": 3
   },
   "file_extension": ".py",
   "mimetype": "text/x-python",
   "name": "python",
   "nbconvert_exporter": "python",
   "pygments_lexer": "ipython3",
   "version": "3.10.6"
  },
  "toc": {
   "base_numbering": 1,
   "nav_menu": {},
   "number_sections": true,
   "sideBar": true,
   "skip_h1_title": false,
   "title_cell": "Table of Contents",
   "title_sidebar": "Contents",
   "toc_cell": false,
   "toc_position": {},
   "toc_section_display": true,
   "toc_window_display": false
  }
 },
 "nbformat": 4,
 "nbformat_minor": 5
}
